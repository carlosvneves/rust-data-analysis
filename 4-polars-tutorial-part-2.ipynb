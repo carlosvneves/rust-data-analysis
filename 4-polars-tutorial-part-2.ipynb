{
 "cells": [
  {
   "cell_type": "markdown",
   "id": "1aa30ace",
   "metadata": {},
   "source": [
    "## Install Dependencies"
   ]
  },
  {
   "cell_type": "code",
   "execution_count": 2,
   "id": "68965891",
   "metadata": {},
   "outputs": [],
   "source": [
    ":dep polars = { version = \"0.28.0\", features = [\"describe\", \"lazy\", \"ndarray\", \"object\", \"dtype-struct\", \"concat_str\", \"mode\"] }"
   ]
  },
  {
   "cell_type": "markdown",
   "id": "fc491aa8",
   "metadata": {},
   "source": [
    "<hr />"
   ]
  },
  {
   "cell_type": "markdown",
   "id": "25c33191",
   "metadata": {},
   "source": [
    "## Import Libraries"
   ]
  },
  {
   "cell_type": "code",
   "execution_count": 4,
   "id": "c419627f",
   "metadata": {},
   "outputs": [],
   "source": [
    "use std::path::Path;\n",
    "use polars::prelude::*;"
   ]
  },
  {
   "cell_type": "markdown",
   "id": "c20c3f8f",
   "metadata": {},
   "source": [
    "<hr />"
   ]
  },
  {
   "cell_type": "markdown",
   "id": "76fb382f",
   "metadata": {},
   "source": [
    "## DataFrame Object"
   ]
  },
  {
   "cell_type": "markdown",
   "id": "a15f8d34",
   "metadata": {},
   "source": [
    "### DataFrame Initialization"
   ]
  },
  {
   "cell_type": "code",
   "execution_count": 43,
   "id": "99cd6658",
   "metadata": {},
   "outputs": [
    {
     "data": {
      "text/plain": [
       "shape: (0, 0)\n",
       "┌┐\n",
       "╞╡\n",
       "└┘"
      ]
     },
     "execution_count": 43,
     "metadata": {},
     "output_type": "execute_result"
    }
   ],
   "source": [
    "let df = DataFrame::default();\n",
    "df"
   ]
  },
  {
   "cell_type": "code",
   "execution_count": 51,
   "id": "a5b55a18",
   "metadata": {},
   "outputs": [
    {
     "data": {
      "text/plain": [
       "shape: (2, 3)\n",
       "┌─────────┬─────┬────────┐\n",
       "│ Name    ┆ Age ┆ Height │\n",
       "│ ---     ┆ --- ┆ ---    │\n",
       "│ str     ┆ i32 ┆ f64    │\n",
       "╞═════════╪═════╪════════╡\n",
       "│ Mahmoud ┆ 23  ┆ 1.84   │\n",
       "│ Ali     ┆ 27  ┆ 1.78   │\n",
       "└─────────┴─────┴────────┘"
      ]
     },
     "execution_count": 51,
     "metadata": {},
     "output_type": "execute_result"
    }
   ],
   "source": [
    "let s1 = Series::new(\"Name\", &[\"Mahmoud\", \"Ali\"]);\n",
    "let s2 = Series::new(\"Age\", &[23, 27]);\n",
    "let s3 = Series::new(\"Height\", &[1.84, 1.78]);\n",
    "\n",
    "let df: DataFrame = DataFrame::new(vec![s1, s2, s3]).unwrap();\n",
    "df"
   ]
  },
  {
   "cell_type": "markdown",
   "id": "497b8b2d",
   "metadata": {},
   "source": [
    "### Describe"
   ]
  },
  {
   "cell_type": "code",
   "execution_count": 45,
   "id": "60726c2c",
   "metadata": {},
   "outputs": [
    {
     "data": {
      "text/plain": [
       "shape: (3, 3)\n",
       "┌─────────────┬─────────┬────────┐\n",
       "│ categorical ┆ numeric ┆ object │\n",
       "│ ---         ┆ ---     ┆ ---    │\n",
       "│ str         ┆ i32     ┆ str    │\n",
       "╞═════════════╪═════════╪════════╡\n",
       "│ d           ┆ 1       ┆ a      │\n",
       "│ e           ┆ 2       ┆ b      │\n",
       "│ f           ┆ 3       ┆ c      │\n",
       "└─────────────┴─────────┴────────┘"
      ]
     },
     "execution_count": 45,
     "metadata": {},
     "output_type": "execute_result"
    }
   ],
   "source": [
    "let df1: DataFrame = df!(\"categorical\" => &[\"d\",\"e\",\"f\"],\n",
    "                         \"numeric\" => &[1, 2, 3],\n",
    "                         \"object\" => &[\"a\", \"b\", \"c\"]).unwrap();\n",
    "df1"
   ]
  },
  {
   "cell_type": "code",
   "execution_count": 46,
   "id": "1e5f57df",
   "metadata": {},
   "outputs": [
    {
     "data": {
      "text/plain": [
       "shape: (9, 4)\n",
       "┌────────────┬─────────────┬─────────┬────────┐\n",
       "│ describe   ┆ categorical ┆ numeric ┆ object │\n",
       "│ ---        ┆ ---         ┆ ---     ┆ ---    │\n",
       "│ str        ┆ str         ┆ f64     ┆ str    │\n",
       "╞════════════╪═════════════╪═════════╪════════╡\n",
       "│ count      ┆ 3           ┆ 3.0     ┆ 3      │\n",
       "│ null_count ┆ 0           ┆ 0.0     ┆ 0      │\n",
       "│ mean       ┆ null        ┆ 2.0     ┆ null   │\n",
       "│ std        ┆ null        ┆ 1.0     ┆ null   │\n",
       "│ …          ┆ …           ┆ …       ┆ …      │\n",
       "│ 25%        ┆ null        ┆ 1.5     ┆ null   │\n",
       "│ 50%        ┆ null        ┆ 2.0     ┆ null   │\n",
       "│ 75%        ┆ null        ┆ 2.5     ┆ null   │\n",
       "│ max        ┆ f           ┆ 3.0     ┆ c      │\n",
       "└────────────┴─────────────┴─────────┴────────┘"
      ]
     },
     "execution_count": 46,
     "metadata": {},
     "output_type": "execute_result"
    }
   ],
   "source": [
    "let df2: DataFrame = df1.describe(None).unwrap();\n",
    "df2"
   ]
  },
  {
   "cell_type": "markdown",
   "id": "29dccc36",
   "metadata": {},
   "source": [
    "### Head"
   ]
  },
  {
   "cell_type": "code",
   "execution_count": 47,
   "id": "3601ce5f",
   "metadata": {},
   "outputs": [
    {
     "data": {
      "text/plain": [
       "shape: (2, 3)\n",
       "┌─────────┬─────┬────────┐\n",
       "│ Name    ┆ Age ┆ Height │\n",
       "│ ---     ┆ --- ┆ ---    │\n",
       "│ str     ┆ i32 ┆ f64    │\n",
       "╞═════════╪═════╪════════╡\n",
       "│ Mahmoud ┆ 23  ┆ 1.84   │\n",
       "│ Bob     ┆ 27  ┆ 1.78   │\n",
       "└─────────┴─────┴────────┘"
      ]
     },
     "execution_count": 47,
     "metadata": {},
     "output_type": "execute_result"
    }
   ],
   "source": [
    "let df: DataFrame = df!(\"Name\" => &[\"Mahmoud\", \"Bob\"],\n",
    "                                      \"Age\" => &[23, 27],\n",
    "                                      \"Height\" => &[1.84, 1.78]).unwrap();\n",
    "// First 10 rows\n",
    "df.head(None)"
   ]
  },
  {
   "cell_type": "code",
   "execution_count": 48,
   "id": "30677858",
   "metadata": {},
   "outputs": [
    {
     "data": {
      "text/plain": [
       "shape: (1, 3)\n",
       "┌─────────┬─────┬────────┐\n",
       "│ Name    ┆ Age ┆ Height │\n",
       "│ ---     ┆ --- ┆ ---    │\n",
       "│ str     ┆ i32 ┆ f64    │\n",
       "╞═════════╪═════╪════════╡\n",
       "│ Mahmoud ┆ 23  ┆ 1.84   │\n",
       "└─────────┴─────┴────────┘"
      ]
     },
     "execution_count": 48,
     "metadata": {},
     "output_type": "execute_result"
    }
   ],
   "source": [
    "let df: DataFrame = df!(\"Name\" => &[\"Mahmoud\", \"Bob\"],\n",
    "                                      \"Age\" => &[23, 27],\n",
    "                                      \"Height\" => &[1.84, 1.78]).unwrap();\n",
    "// First row\n",
    "df.head(Some(1))"
   ]
  },
  {
   "cell_type": "markdown",
   "id": "abc1a959",
   "metadata": {},
   "source": [
    "### Tail"
   ]
  },
  {
   "cell_type": "code",
   "execution_count": 49,
   "id": "a3fa7318",
   "metadata": {},
   "outputs": [
    {
     "data": {
      "text/plain": [
       "shape: (2, 3)\n",
       "┌─────────┬─────┬────────┐\n",
       "│ Name    ┆ Age ┆ Height │\n",
       "│ ---     ┆ --- ┆ ---    │\n",
       "│ str     ┆ i32 ┆ f64    │\n",
       "╞═════════╪═════╪════════╡\n",
       "│ Mahmoud ┆ 23  ┆ 1.84   │\n",
       "│ Bob     ┆ 27  ┆ 1.78   │\n",
       "└─────────┴─────┴────────┘"
      ]
     },
     "execution_count": 49,
     "metadata": {},
     "output_type": "execute_result"
    }
   ],
   "source": [
    "let df: DataFrame = df!(\"Name\" => &[\"Mahmoud\", \"Bob\"],\n",
    "                                      \"Age\" => &[23, 27],\n",
    "                                      \"Height\" => &[1.84, 1.78]).unwrap();\n",
    "// Last 10 rows\n",
    "df.tail(None)"
   ]
  },
  {
   "cell_type": "code",
   "execution_count": 50,
   "id": "534ec45a",
   "metadata": {},
   "outputs": [
    {
     "data": {
      "text/plain": [
       "shape: (1, 3)\n",
       "┌──────┬─────┬────────┐\n",
       "│ Name ┆ Age ┆ Height │\n",
       "│ ---  ┆ --- ┆ ---    │\n",
       "│ str  ┆ i32 ┆ f64    │\n",
       "╞══════╪═════╪════════╡\n",
       "│ Bob  ┆ 27  ┆ 1.78   │\n",
       "└──────┴─────┴────────┘"
      ]
     },
     "execution_count": 50,
     "metadata": {},
     "output_type": "execute_result"
    }
   ],
   "source": [
    "let df: DataFrame = df!(\"Name\" => &[\"Mahmoud\", \"Bob\"],\n",
    "                                      \"Age\" => &[23, 27],\n",
    "                                      \"Height\" => &[1.84, 1.78]).unwrap();\n",
    "// Last row\n",
    "df.tail(Some(1))"
   ]
  },
  {
   "cell_type": "markdown",
   "id": "45b391f7",
   "metadata": {},
   "source": [
    "### Indexing & Slicing"
   ]
  },
  {
   "cell_type": "code",
   "execution_count": 56,
   "id": "1a864463",
   "metadata": {},
   "outputs": [
    {
     "name": "stdout",
     "output_type": "stream",
     "text": [
      "shape: (3,)\n",
      "Series: 'Name' [str]\n",
      "[\n",
      "\t\"Mahmoud\"\n",
      "\t\"Ali\"\n",
      "\t\"ThePrimeagen\"\n",
      "]\n"
     ]
    }
   ],
   "source": [
    "let df = df!(\"Name\" => &[\"Mahmoud\", \"Ali\", \"ThePrimeagen\"],\n",
    "             \"Age\" => &[22, 25, 29],\n",
    "             \"Gender\" => &[\"M\", \"M\", \"M\"],\n",
    "             \"Salary\" => &[50000, 60000, 250000]).unwrap();\n",
    "{\n",
    "    let name_col = &df[\"Name\"];\n",
    "    println!(\"{}\", name_col);\n",
    "}\n",
    "// or\n",
    "// let name_col1 = &df[0];"
   ]
  },
  {
   "cell_type": "code",
   "execution_count": 69,
   "id": "034b323c",
   "metadata": {},
   "outputs": [
    {
     "data": {
      "text/plain": [
       "shape: (3, 2)\n",
       "┌──────────────┬─────┐\n",
       "│ Name         ┆ Age │\n",
       "│ ---          ┆ --- │\n",
       "│ str          ┆ i32 │\n",
       "╞══════════════╪═════╡\n",
       "│ Mahmoud      ┆ 22  │\n",
       "│ Ali          ┆ 25  │\n",
       "│ ThePrimeagen ┆ 29  │\n",
       "└──────────────┴─────┘"
      ]
     },
     "execution_count": 69,
     "metadata": {},
     "output_type": "execute_result"
    }
   ],
   "source": [
    "let df = df!(\"Name\" => &[\"Mahmoud\", \"Ali\", \"ThePrimeagen\"],\n",
    "             \"Age\" => &[22, 25, 29],\n",
    "             \"Gender\" => &[\"M\", \"M\", \"M\"],\n",
    "             \"Salary\" => &[50000, 60000, 250000]).unwrap();\n",
    "\n",
    "let name_age_cols = df.select([\"Name\", \"Age\"]).unwrap();\n",
    "name_age_cols"
   ]
  },
  {
   "cell_type": "code",
   "execution_count": 73,
   "id": "85fd56b5",
   "metadata": {},
   "outputs": [
    {
     "name": "stdout",
     "output_type": "stream",
     "text": [
      "Ok(shape: (3,)\n",
      "Series: 'Name' [str]\n",
      "[\n",
      "\t\"Mahmoud\"\n",
      "\t\"Ali\"\n",
      "\t\"ThePrimeagen\"\n",
      "])\n"
     ]
    },
    {
     "data": {
      "text/plain": [
       "()"
      ]
     },
     "execution_count": 73,
     "metadata": {},
     "output_type": "execute_result"
    }
   ],
   "source": [
    "let df = df!(\"Name\" => &[\"Mahmoud\", \"Ali\", \"ThePrimeagen\"],\n",
    "             \"Age\" => &[22, 25, 29],\n",
    "             \"Gender\" => &[\"M\", \"M\", \"M\"],\n",
    "             \"Salary\" => &[50000, 60000, 250000]).unwrap();\n",
    "\n",
    "{\n",
    "    let name_col = df.column(\"Name\");\n",
    "    println!(\"{:?}\", name_col);\n",
    "}"
   ]
  },
  {
   "cell_type": "code",
   "execution_count": 72,
   "id": "a8c3f7a6",
   "metadata": {},
   "outputs": [
    {
     "name": "stdout",
     "output_type": "stream",
     "text": [
      "shape: (1, 4)\n",
      "┌──────────────┬─────┬────────┬────────┐\n",
      "│ Name         ┆ Age ┆ Gender ┆ Salary │\n",
      "│ str          ┆ i32 ┆ str    ┆ i32    │\n",
      "│ ---          ┆ --- ┆ ---    ┆ ---    │\n",
      "╞══════════════╪═════╪════════╪════════╡\n",
      "│ ThePrimeagen ┆ 36  ┆ M      ┆ 250000 │\n",
      "└──────────────┴─────┴────────┴────────┘\n"
     ]
    }
   ],
   "source": [
    "let df = df!(\"Name\" => &[\"Mahmoud\", \"Ali\", \"ThePrimeagen\"],\n",
    "             \"Age\" => &[22, 25, 36],\n",
    "             \"Gender\" => &[\"M\", \"M\", \"M\"],\n",
    "             \"Salary\" => &[50000, 60000, 250000]).unwrap();\n",
    "\n",
    "\n",
    "let mask = df.column(\"Age\").expect(\"Age must exist!\").gt(25).unwrap();\n",
    "let filtered_data = df.filter(&mask).unwrap();\n",
    "println!(\"{:?}\", filtered_data);"
   ]
  },
  {
   "cell_type": "code",
   "execution_count": 74,
   "id": "a2f8e919",
   "metadata": {},
   "outputs": [
    {
     "data": {
      "text/plain": [
       "shape: (1, 4)\n",
       "┌──────────────┬─────┬────────┬────────┐\n",
       "│ Name         ┆ Age ┆ Gender ┆ Salary │\n",
       "│ ---          ┆ --- ┆ ---    ┆ ---    │\n",
       "│ str          ┆ i32 ┆ str    ┆ i32    │\n",
       "╞══════════════╪═════╪════════╪════════╡\n",
       "│ ThePrimeagen ┆ 36  ┆ M      ┆ 250000 │\n",
       "└──────────────┴─────┴────────┴────────┘"
      ]
     },
     "execution_count": 74,
     "metadata": {},
     "output_type": "execute_result"
    }
   ],
   "source": [
    "let df = df!(\"Name\" => &[\"Mahmoud\", \"Ali\", \"ThePrimeagen\"],\n",
    "             \"Age\" => &[22, 25, 36],\n",
    "             \"Gender\" => &[\"M\", \"M\", \"M\"],\n",
    "             \"Salary\" => &[50000, 60000, 250000]).unwrap();\n",
    "\n",
    "df.slice(2, 3)"
   ]
  },
  {
   "cell_type": "code",
   "execution_count": 75,
   "id": "265cdaea",
   "metadata": {},
   "outputs": [
    {
     "data": {
      "text/plain": [
       "shape: (4,)\n",
       "Series: 'column_0' [str]\n",
       "[\n",
       "\t\"Mahmoud\"\n",
       "\t\"22\"\n",
       "\t\"M\"\n",
       "\t\"50000\"\n",
       "]"
      ]
     },
     "execution_count": 75,
     "metadata": {},
     "output_type": "execute_result"
    }
   ],
   "source": [
    "let df = df!(\"Name\" => &[\"Mahmoud\", \"Ali\", \"ThePrimeagen\"],\n",
    "             \"Age\" => &[22, 25, 36],\n",
    "             \"Gender\" => &[\"M\", \"M\", \"M\"],\n",
    "             \"Salary\" => &[50000, 60000, 250000]).unwrap();\n",
    "\n",
    "df.transpose().unwrap()[0]"
   ]
  },
  {
   "cell_type": "markdown",
   "id": "5edeef40",
   "metadata": {},
   "source": [
    "## Data Cleaning"
   ]
  },
  {
   "cell_type": "markdown",
   "id": "e156df3c",
   "metadata": {},
   "source": [
    "### Nulls Count"
   ]
  },
  {
   "cell_type": "code",
   "execution_count": 76,
   "id": "24dfd551",
   "metadata": {},
   "outputs": [
    {
     "data": {
      "text/plain": [
       "shape: (1, 4)\n",
       "┌──────┬─────┬────────┬────────┐\n",
       "│ Name ┆ Age ┆ Gender ┆ Salary │\n",
       "│ ---  ┆ --- ┆ ---    ┆ ---    │\n",
       "│ u32  ┆ u32 ┆ u32    ┆ u32    │\n",
       "╞══════╪═════╪════════╪════════╡\n",
       "│ 2    ┆ 0   ┆ 0      ┆ 0      │\n",
       "└──────┴─────┴────────┴────────┘"
      ]
     },
     "execution_count": 76,
     "metadata": {},
     "output_type": "execute_result"
    }
   ],
   "source": [
    "let df = df!(\"Name\" => &[Some(\"Mahmoud\"),  None, None],\n",
    "             \"Age\" => &[22, 25, 36],\n",
    "             \"Gender\" => &[\"M\", \"M\", \"M\"],\n",
    "             \"Salary\" => &[50000, 60000, 250000]).unwrap();\n",
    "\n",
    " df.null_count()"
   ]
  },
  {
   "cell_type": "markdown",
   "id": "9c71e122",
   "metadata": {},
   "source": [
    "### Duplicates"
   ]
  },
  {
   "cell_type": "code",
   "execution_count": 77,
   "id": "07597d38",
   "metadata": {},
   "outputs": [
    {
     "data": {
      "text/plain": [
       "shape: (2, 4)\n",
       "┌─────────┬─────┬────────┬────────┐\n",
       "│ Name    ┆ Age ┆ Gender ┆ Salary │\n",
       "│ ---     ┆ --- ┆ ---    ┆ ---    │\n",
       "│ str     ┆ i32 ┆ str    ┆ i32    │\n",
       "╞═════════╪═════╪════════╪════════╡\n",
       "│ Mahmoud ┆ 22  ┆ M      ┆ 50000  │\n",
       "│ Mahmoud ┆ 22  ┆ M      ┆ 50000  │\n",
       "└─────────┴─────┴────────┴────────┘"
      ]
     },
     "execution_count": 77,
     "metadata": {},
     "output_type": "execute_result"
    }
   ],
   "source": [
    "let df = df!(\"Name\" => &[\"Mahmoud\",  \"Mahmoud\", \"ThePrimeagen\"],\n",
    "             \"Age\" => &[22, 22, 36],\n",
    "             \"Gender\" => &[\"M\", \"M\", \"M\"],\n",
    "             \"Salary\" => &[50000, 50000, 250000]).unwrap();\n",
    "let mask = df.is_duplicated().unwrap();\n",
    "let filtered_data = df.filter(&mask).unwrap();\n",
    "filtered_data"
   ]
  },
  {
   "cell_type": "markdown",
   "id": "f67a8fdb",
   "metadata": {},
   "source": [
    "### Unique Values"
   ]
  },
  {
   "cell_type": "code",
   "execution_count": 78,
   "id": "ac200aa7",
   "metadata": {},
   "outputs": [
    {
     "data": {
      "text/plain": [
       "shape: (1, 4)\n",
       "┌──────────────┬─────┬────────┬────────┐\n",
       "│ Name         ┆ Age ┆ Gender ┆ Salary │\n",
       "│ ---          ┆ --- ┆ ---    ┆ ---    │\n",
       "│ str          ┆ i32 ┆ str    ┆ i32    │\n",
       "╞══════════════╪═════╪════════╪════════╡\n",
       "│ ThePrimeagen ┆ 36  ┆ M      ┆ 250000 │\n",
       "└──────────────┴─────┴────────┴────────┘"
      ]
     },
     "execution_count": 78,
     "metadata": {},
     "output_type": "execute_result"
    }
   ],
   "source": [
    "let df = df!(\"Name\" => &[\"Mahmoud\",  \"Mahmoud\", \"ThePrimeagen\"],\n",
    "             \"Age\" => &[22, 22, 36],\n",
    "             \"Gender\" => &[\"M\", \"M\", \"M\"],\n",
    "             \"Salary\" => &[50000, 50000, 250000]).unwrap();\n",
    "let mask = df.is_unique().unwrap();\n",
    "let filtered_data = df.filter(&mask).unwrap();\n",
    "filtered_data"
   ]
  },
  {
   "cell_type": "markdown",
   "id": "a13614d0",
   "metadata": {},
   "source": [
    "### Drop"
   ]
  },
  {
   "cell_type": "code",
   "execution_count": 80,
   "id": "ea27d9f3",
   "metadata": {},
   "outputs": [
    {
     "name": "stdout",
     "output_type": "stream",
     "text": [
      "shape: (3, 1)\n",
      "┌───────┐\n",
      "│ Fruit │\n",
      "│ ---   │\n",
      "│ str   │\n",
      "│ Apple │\n",
      "╞═══════╡\n",
      "│ Apple │\n",
      "│ Pear  │\n",
      "└───────┘\n",
      "shape: (3, 2)\n",
      "┌───────┬────────┐\n",
      "│ Fruit ┆ Color  │\n",
      "│ ---   ┆ ---    │\n",
      "│ str   ┆ str    │\n",
      "╞═══════╪════════╡\n",
      "│ Apple ┆ Red    │\n",
      "│ Apple ┆ Yellow │\n",
      "│ Pear  ┆ Green  │\n",
      "└───────┴────────┘\n"
     ]
    }
   ],
   "source": [
    "let df: DataFrame = df!(\"Fruit\" => &[\"Apple\", \"Apple\", \"Pear\"],\n",
    "                        \"Color\" => &[\"Red\", \"Yellow\", \"Green\"]).unwrap();\n",
    "let df_remain = df.drop(\"Color\").unwrap(); \n",
    "println!(\"{}\", df_remain);\n",
    "println!(\"{}\", df); // the original DataFrame"
   ]
  },
  {
   "cell_type": "code",
   "execution_count": 81,
   "id": "24750eff",
   "metadata": {},
   "outputs": [
    {
     "data": {
      "text/plain": [
       "shape: (3, 1)\n",
       "┌───────┐\n",
       "│ Fruit │\n",
       "│ ---   │\n",
       "│ str   │\n",
       "╞═══════╡\n",
       "│ Apple │\n",
       "│ Apple │\n",
       "│ Pear  │\n",
       "└───────┘"
      ]
     },
     "execution_count": 81,
     "metadata": {},
     "output_type": "execute_result"
    }
   ],
   "source": [
    "let mut df: DataFrame = df!(\"Fruit\" => &[\"Apple\", \"Apple\", \"Pear\"],\n",
    "                                      \"Color\" => &[\"Red\", \"Yellow\", \"Green\"]).unwrap();\n",
    "df.drop_in_place(\"Color\"); // remove the row with index 1 (\"Banana\") from df\n",
    "df"
   ]
  },
  {
   "cell_type": "code",
   "execution_count": 84,
   "id": "b424aeb0",
   "metadata": {},
   "outputs": [
    {
     "data": {
      "text/plain": [
       "shape: (3, 1)\n",
       "┌───────┐\n",
       "│ Fruit │\n",
       "│ ---   │\n",
       "│ str   │\n",
       "╞═══════╡\n",
       "│ Apple │\n",
       "│ Apple │\n",
       "│ Pear  │\n",
       "└───────┘"
      ]
     },
     "execution_count": 84,
     "metadata": {},
     "output_type": "execute_result"
    }
   ],
   "source": [
    "let df: DataFrame = df!(\"Fruit\" => &[\"Apple\", \"Apple\", \"Pear\"],\n",
    "                                      \"Color\" => &[\"Red\", \"Yellow\", \"Green\"]).unwrap();\n",
    "let df_dropped_col = df.drop_many(&[\"Color\", \"\"]);\n",
    "df_dropped_col"
   ]
  },
  {
   "cell_type": "code",
   "execution_count": 85,
   "id": "13a3e065",
   "metadata": {},
   "outputs": [
    {
     "data": {
      "text/plain": [
       "shape: (1, 2)\n",
       "┌───────┬───────┐\n",
       "│ Fruit ┆ Color │\n",
       "│ ---   ┆ ---   │\n",
       "│ str   ┆ str   │\n",
       "╞═══════╪═══════╡\n",
       "│ Apple ┆ Red   │\n",
       "└───────┴───────┘"
      ]
     },
     "execution_count": 85,
     "metadata": {},
     "output_type": "execute_result"
    }
   ],
   "source": [
    "let df: DataFrame = df!(\"Fruit\" => &[\"Apple\", \"Apple\", \"Pear\"],\n",
    "                                      \"Color\" => &[Some(\"Red\"), None, None]).unwrap();\n",
    "let df_clean = df.drop_nulls::<String>(None).unwrap();\n",
    "df_clean"
   ]
  },
  {
   "cell_type": "code",
   "execution_count": 86,
   "id": "808bdf45",
   "metadata": {},
   "outputs": [
    {
     "data": {
      "text/plain": [
       "shape: (3,)\n",
       "ChunkedArray: 'Salary' [bool]\n",
       "[\n",
       "\ttrue\n",
       "\ttrue\n",
       "\tfalse\n",
       "]"
      ]
     },
     "execution_count": 86,
     "metadata": {},
     "output_type": "execute_result"
    }
   ],
   "source": [
    "let df = df!(\"Name\" => &[\"Mahmoud\", \"Ali\", \"ThePrimeagen\"],\n",
    "             \"Age\" => &[22, 25, 36],\n",
    "             \"Gender\" => &[\"M\", \"M\", \"M\"],\n",
    "             \"Salary\" => &[Some(50000), Some(60000), None]).unwrap();\n",
    "let mask = df.column(\"Salary\").expect(\"Salary must exist!\").is_not_null();\n",
    "mask.head(None)"
   ]
  },
  {
   "cell_type": "code",
   "execution_count": 87,
   "id": "d756361a",
   "metadata": {},
   "outputs": [
    {
     "data": {
      "text/plain": [
       "shape: (2, 4)\n",
       "┌─────────┬─────┬────────┬────────┐\n",
       "│ Name    ┆ Age ┆ Gender ┆ Salary │\n",
       "│ ---     ┆ --- ┆ ---    ┆ ---    │\n",
       "│ str     ┆ i32 ┆ str    ┆ i32    │\n",
       "╞═════════╪═════╪════════╪════════╡\n",
       "│ Mahmoud ┆ 22  ┆ M      ┆ 50000  │\n",
       "│ Ali     ┆ 25  ┆ M      ┆ 60000  │\n",
       "└─────────┴─────┴────────┴────────┘"
      ]
     },
     "execution_count": 87,
     "metadata": {},
     "output_type": "execute_result"
    }
   ],
   "source": [
    "let df = df!(\"Name\" => &[\"Mahmoud\", \"Ali\", \"ThePrimeagen\"],\n",
    "             \"Age\" => &[22, 25, 36],\n",
    "             \"Gender\" => &[\"M\", \"M\", \"M\"],\n",
    "             \"Salary\" => &[Some(50000), Some(60000), None]).unwrap();\n",
    "let filtered_data = df.filter(&mask).unwrap();\n",
    "filtered_data"
   ]
  },
  {
   "cell_type": "markdown",
   "id": "7be1a68a",
   "metadata": {},
   "source": [
    "### Fill"
   ]
  },
  {
   "cell_type": "code",
   "execution_count": 88,
   "id": "99cc4307",
   "metadata": {
    "scrolled": true
   },
   "outputs": [
    {
     "data": {
      "text/plain": [
       "shape: (3, 4)\n",
       "┌──────────────┬─────┬────────┬────────┐\n",
       "│ Name         ┆ Age ┆ Gender ┆ Salary │\n",
       "│ ---          ┆ --- ┆ ---    ┆ ---    │\n",
       "│ str          ┆ i32 ┆ str    ┆ i32    │\n",
       "╞══════════════╪═════╪════════╪════════╡\n",
       "│ Mahmoud      ┆ 22  ┆ M      ┆ 50000  │\n",
       "│ Ali          ┆ 25  ┆ M      ┆ 60000  │\n",
       "│ ThePrimeagen ┆ 36  ┆ M      ┆ 60000  │\n",
       "└──────────────┴─────┴────────┴────────┘"
      ]
     },
     "execution_count": 88,
     "metadata": {},
     "output_type": "execute_result"
    }
   ],
   "source": [
    "let mut df = df!(\"Name\" => &[\"Mahmoud\", \"Ali\", \"ThePrimeagen\"],\n",
    "             \"Age\" => &[22, 25, 36],\n",
    "             \"Gender\" => &[\"M\", \"M\", \"M\"],\n",
    "             \"Salary\" => &[Some(50000), Some(60000), None]).unwrap();\n",
    "\n",
    "let filtered_nulls = df.fill_null(FillNullStrategy::Forward(None)).unwrap();\n",
    "filtered_nulls"
   ]
  },
  {
   "cell_type": "markdown",
   "id": "430dd66a",
   "metadata": {},
   "source": [
    "## Measures of central tendency"
   ]
  },
  {
   "cell_type": "markdown",
   "id": "6892746e",
   "metadata": {},
   "source": [
    "### Mean"
   ]
  },
  {
   "cell_type": "code",
   "execution_count": 89,
   "id": "1a00a9cf",
   "metadata": {},
   "outputs": [
    {
     "data": {
      "text/plain": [
       "shape: (1, 4)\n",
       "┌──────┬───────────┬────────┬─────────┐\n",
       "│ Name ┆ Age       ┆ Gender ┆ Salary  │\n",
       "│ ---  ┆ ---       ┆ ---    ┆ ---     │\n",
       "│ str  ┆ f64       ┆ str    ┆ f64     │\n",
       "╞══════╪═══════════╪════════╪═════════╡\n",
       "│ null ┆ 27.666667 ┆ null   ┆ 55000.0 │\n",
       "└──────┴───────────┴────────┴─────────┘"
      ]
     },
     "execution_count": 89,
     "metadata": {},
     "output_type": "execute_result"
    }
   ],
   "source": [
    "let df = df!(\"Name\" => &[\"Mahmoud\", \"Ali\", \"ThePrimeagen\"],\n",
    "             \"Age\" => &[22, 25, 36],\n",
    "             \"Gender\" => &[\"M\", \"M\", \"M\"],\n",
    "             \"Salary\" => &[Some(50000), Some(60000), None]).unwrap();\n",
    "\n",
    "df.mean()"
   ]
  },
  {
   "cell_type": "markdown",
   "id": "3a6e8b4f",
   "metadata": {},
   "source": [
    "### Median"
   ]
  },
  {
   "cell_type": "code",
   "execution_count": 90,
   "id": "e21fb227",
   "metadata": {},
   "outputs": [
    {
     "data": {
      "text/plain": [
       "shape: (1, 4)\n",
       "┌──────┬──────┬────────┬─────────┐\n",
       "│ Name ┆ Age  ┆ Gender ┆ Salary  │\n",
       "│ ---  ┆ ---  ┆ ---    ┆ ---     │\n",
       "│ str  ┆ f64  ┆ str    ┆ f64     │\n",
       "╞══════╪══════╪════════╪═════════╡\n",
       "│ null ┆ 25.0 ┆ null   ┆ 55000.0 │\n",
       "└──────┴──────┴────────┴─────────┘"
      ]
     },
     "execution_count": 90,
     "metadata": {},
     "output_type": "execute_result"
    }
   ],
   "source": [
    "let df = df!(\"Name\" => &[\"Mahmoud\", \"Ali\", \"ThePrimeagen\"],\n",
    "             \"Age\" => &[22, 25, 36],\n",
    "             \"Gender\" => &[\"M\", \"M\", \"M\"],\n",
    "             \"Salary\" => &[Some(50000), Some(60000), None]).unwrap();\n",
    "\n",
    "df.median()"
   ]
  },
  {
   "cell_type": "markdown",
   "id": "790ee654",
   "metadata": {},
   "source": [
    "## Measures of spread"
   ]
  },
  {
   "cell_type": "markdown",
   "id": "3a16bb84",
   "metadata": {},
   "source": [
    "### std"
   ]
  },
  {
   "cell_type": "code",
   "execution_count": 91,
   "id": "2a69879e",
   "metadata": {},
   "outputs": [
    {
     "data": {
      "text/plain": [
       "shape: (1, 4)\n",
       "┌──────┬──────────┬────────┬─────────────┐\n",
       "│ Name ┆ Age      ┆ Gender ┆ Salary      │\n",
       "│ ---  ┆ ---      ┆ ---    ┆ ---         │\n",
       "│ str  ┆ f64      ┆ str    ┆ f64         │\n",
       "╞══════╪══════════╪════════╪═════════════╡\n",
       "│ null ┆ 7.371115 ┆ null   ┆ 7071.067812 │\n",
       "└──────┴──────────┴────────┴─────────────┘"
      ]
     },
     "execution_count": 91,
     "metadata": {},
     "output_type": "execute_result"
    }
   ],
   "source": [
    "let df = df!(\"Name\" => &[\"Mahmoud\", \"Ali\", \"ThePrimeagen\"],\n",
    "             \"Age\" => &[22, 25, 36],\n",
    "             \"Gender\" => &[\"M\", \"M\", \"M\"],\n",
    "             \"Salary\" => &[Some(50000), Some(60000), None]).unwrap();\n",
    "\n",
    "df.std(1)"
   ]
  },
  {
   "cell_type": "markdown",
   "id": "bc466013",
   "metadata": {},
   "source": [
    "### var"
   ]
  },
  {
   "cell_type": "code",
   "execution_count": 93,
   "id": "559108c3",
   "metadata": {},
   "outputs": [
    {
     "data": {
      "text/plain": [
       "shape: (1, 4)\n",
       "┌──────┬───────────┬────────┬────────┐\n",
       "│ Name ┆ Age       ┆ Gender ┆ Salary │\n",
       "│ ---  ┆ ---       ┆ ---    ┆ ---    │\n",
       "│ str  ┆ f64       ┆ str    ┆ f64    │\n",
       "╞══════╪═══════════╪════════╪════════╡\n",
       "│ null ┆ 54.333333 ┆ null   ┆ 5e7    │\n",
       "└──────┴───────────┴────────┴────────┘"
      ]
     },
     "execution_count": 93,
     "metadata": {},
     "output_type": "execute_result"
    }
   ],
   "source": [
    "let df = df!(\"Name\" => &[\"Mahmoud\", \"Ali\", \"ThePrimeagen\"],\n",
    "             \"Age\" => &[22, 25, 36],\n",
    "             \"Gender\" => &[\"M\", \"M\", \"M\"],\n",
    "             \"Salary\" => &[Some(50000), Some(60000), None]).unwrap();\n",
    "\n",
    "df.var(1)"
   ]
  },
  {
   "cell_type": "markdown",
   "id": "bb187799",
   "metadata": {},
   "source": [
    "## Ndarray"
   ]
  },
  {
   "cell_type": "code",
   "execution_count": 94,
   "id": "bfdb9d25",
   "metadata": {},
   "outputs": [
    {
     "data": {
      "text/plain": [
       "[[NaN, 22.0, NaN, 50000.0],\n",
       " [NaN, 25.0, NaN, 60000.0],\n",
       " [NaN, 36.0, NaN, NaN]], shape=[3, 4], strides=[1, 3], layout=Ff (0xa), const ndim=2"
      ]
     },
     "execution_count": 94,
     "metadata": {},
     "output_type": "execute_result"
    }
   ],
   "source": [
    "let df = df!(\"Name\" => &[\"Mahmoud\", \"Ali\", \"ThePrimeagen\"],\n",
    "             \"Age\" => &[22, 25, 36],\n",
    "             \"Gender\" => &[\"M\", \"M\", \"M\"],\n",
    "             \"Salary\" => &[Some(50000), Some(60000), None]).unwrap();\n",
    "\n",
    "df.to_ndarray::<Float64Type>().unwrap()"
   ]
  },
  {
   "cell_type": "markdown",
   "id": "3c4cd9bb",
   "metadata": {},
   "source": [
    "<hr />"
   ]
  },
  {
   "cell_type": "markdown",
   "id": "acd00de6",
   "metadata": {},
   "source": [
    "## Aggregation"
   ]
  },
  {
   "cell_type": "markdown",
   "id": "3234c058",
   "metadata": {},
   "source": [
    "Downlaod [the flights dataset](https://www.kaggle.com/datasets/tylerx/flights-and-airports-data?select=flights.csv) and put it under the `dataset` folder."
   ]
  },
  {
   "cell_type": "code",
   "execution_count": 6,
   "id": "3e63efa8",
   "metadata": {},
   "outputs": [
    {
     "data": {
      "text/plain": [
       "shape: (5, 7)\n",
       "┌────────────┬───────────┬─────────┬─────────────────┬───────────────┬──────────┬──────────┐\n",
       "│ DayofMonth ┆ DayOfWeek ┆ Carrier ┆ OriginAirportID ┆ DestAirportID ┆ DepDelay ┆ ArrDelay │\n",
       "│ ---        ┆ ---       ┆ ---     ┆ ---             ┆ ---           ┆ ---      ┆ ---      │\n",
       "│ i64        ┆ i64       ┆ str     ┆ i64             ┆ i64           ┆ i64      ┆ i64      │\n",
       "╞════════════╪═══════════╪═════════╪═════════════════╪═══════════════╪══════════╪══════════╡\n",
       "│ 19         ┆ 5         ┆ DL      ┆ 11433           ┆ 13303         ┆ -3       ┆ 1        │\n",
       "│ 19         ┆ 5         ┆ DL      ┆ 14869           ┆ 12478         ┆ 0        ┆ -8       │\n",
       "│ 19         ┆ 5         ┆ DL      ┆ 14057           ┆ 14869         ┆ -4       ┆ -15      │\n",
       "│ 19         ┆ 5         ┆ DL      ┆ 15016           ┆ 11433         ┆ 28       ┆ 24       │\n",
       "│ 19         ┆ 5         ┆ DL      ┆ 11193           ┆ 12892         ┆ -6       ┆ -11      │\n",
       "└────────────┴───────────┴─────────┴─────────────────┴───────────────┴──────────┴──────────┘"
      ]
     },
     "execution_count": 6,
     "metadata": {},
     "output_type": "execute_result"
    }
   ],
   "source": [
    "fn read_data_frame_from_csv(\n",
    "    csv_file_path: &Path,\n",
    ") -> DataFrame {\n",
    "    CsvReader::from_path(csv_file_path)\n",
    "        .expect(\"Cannot open file.\")\n",
    "        .has_header(true)\n",
    "        .finish()\n",
    "        .unwrap()\n",
    "}\n",
    "\n",
    "\n",
    "let flights_file_path: &Path = Path::new(\"dataset/flights.csv\");\n",
    "let flights_df: DataFrame = read_data_frame_from_csv(flights_file_path);\n",
    "flights_df.head(Some(5))"
   ]
  },
  {
   "cell_type": "code",
   "execution_count": 7,
   "id": "e59faf9a",
   "metadata": {},
   "outputs": [
    {
     "data": {
      "text/plain": [
       "shape: (5, 2)\n",
       "┌─────────┬───────────────┐\n",
       "│ Carrier ┆ ArrDelay_mean │\n",
       "│ ---     ┆ ---           │\n",
       "│ str     ┆ f64           │\n",
       "╞═════════╪═══════════════╡\n",
       "│ HA      ┆ 1.532125      │\n",
       "│ F9      ┆ 12.848704     │\n",
       "│ FL      ┆ 7.228765      │\n",
       "│ YV      ┆ 8.547585      │\n",
       "│ AA      ┆ 7.136775      │\n",
       "└─────────┴───────────────┘"
      ]
     },
     "execution_count": 7,
     "metadata": {},
     "output_type": "execute_result"
    }
   ],
   "source": [
    "let flights_carrier_df: DataFrame = flights_df.groupby([\"Carrier\"]).expect(\"Carrier Column must exist!\").select([\"ArrDelay\"]).mean().unwrap();\n",
    "flights_carrier_df.head(Some(5))"
   ]
  },
  {
   "cell_type": "code",
   "execution_count": 10,
   "id": "715ea5d8",
   "metadata": {},
   "outputs": [
    {
     "data": {
      "text/plain": [
       "shape: (5, 3)\n",
       "┌─────────┬───────────┬───────────────┐\n",
       "│ Carrier ┆ DayOfWeek ┆ DepDelay_mean │\n",
       "│ ---     ┆ ---       ┆ ---           │\n",
       "│ str     ┆ i64       ┆ f64           │\n",
       "╞═════════╪═══════════╪═══════════════╡\n",
       "│ UA      ┆ 4         ┆ 16.67069      │\n",
       "│ B6      ┆ 3         ┆ 11.556713     │\n",
       "│ WN      ┆ 5         ┆ 15.258676     │\n",
       "│ 9E      ┆ 5         ┆ 11.122865     │\n",
       "│ HA      ┆ 4         ┆ 2.071226      │\n",
       "└─────────┴───────────┴───────────────┘"
      ]
     },
     "execution_count": 10,
     "metadata": {},
     "output_type": "execute_result"
    }
   ],
   "source": [
    "let flights_df_arr: DataFrame = flights_df.groupby([\"Carrier\", \"DayOfWeek\"]).expect(\"Carrier and DayOfWeek Columns must exist!\").select([\"DepDelay\"]).mean().unwrap();\n",
    "flights_df_arr.head(Some(5))"
   ]
  },
  {
   "cell_type": "markdown",
   "id": "255b919b",
   "metadata": {},
   "source": [
    "<hr />"
   ]
  },
  {
   "cell_type": "markdown",
   "id": "308fbffc",
   "metadata": {},
   "source": [
    "## Merge"
   ]
  },
  {
   "cell_type": "code",
   "execution_count": 11,
   "id": "eef0bdac",
   "metadata": {
    "scrolled": true
   },
   "outputs": [
    {
     "data": {
      "text/plain": [
       "shape: (3, 3)\n",
       "┌─────────┬──────────┬──────────┐\n",
       "│ Carrier ┆ ArrDelay ┆ DepDelay │\n",
       "│ ---     ┆ ---      ┆ ---      │\n",
       "│ str     ┆ i32      ┆ i32      │\n",
       "╞═════════╪══════════╪══════════╡\n",
       "│ HA      ┆ -3       ┆ 21       │\n",
       "│ EV      ┆ 28       ┆ -8       │\n",
       "│ VX      ┆ 0        ┆ -4       │\n",
       "└─────────┴──────────┴──────────┘"
      ]
     },
     "execution_count": 11,
     "metadata": {},
     "output_type": "execute_result"
    }
   ],
   "source": [
    "let df1: DataFrame = df!(\"Carrier\" => &[\"HA\", \"EV\", \"VX\", \"DL\"],\n",
    "                         \"ArrDelay\" => &[-3, 28, 0, 1]).unwrap();\n",
    "let df2: DataFrame = df!(\"Airline\" => &[\"HA\", \"EV\", \"OO\", \"VX\"],\n",
    "                         \"DepDelay\" => &[21, -8, 11, -4]).unwrap();\n",
    "\n",
    "let df3: DataFrame = df1.join(&df2, [\"Carrier\"], [\"Airline\"], JoinType::Inner, None).unwrap();\n",
    "df3.head(Some(5))"
   ]
  },
  {
   "cell_type": "markdown",
   "id": "016f06b3",
   "metadata": {},
   "source": [
    "<hr />"
   ]
  }
 ],
 "metadata": {
  "kernelspec": {
   "display_name": "Rust",
   "language": "rust",
   "name": "rust"
  },
  "language_info": {
   "codemirror_mode": "rust",
   "file_extension": ".rs",
   "mimetype": "text/rust",
   "name": "Rust",
   "pygment_lexer": "rust",
   "version": ""
  }
 },
 "nbformat": 4,
 "nbformat_minor": 5
}
