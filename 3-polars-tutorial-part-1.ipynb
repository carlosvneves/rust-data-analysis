{
 "cells": [
  {
   "cell_type": "markdown",
   "id": "1aa30ace",
   "metadata": {},
   "source": [
    "## Install Dependencies"
   ]
  },
  {
   "cell_type": "code",
   "execution_count": 2,
   "id": "68965891",
   "metadata": {},
   "outputs": [],
   "source": [
    ":dep chrono = { version = \"0.4.24\"}\n",
    ":dep polars = { version = \"0.28.0\", features = [\"describe\", \"lazy\", \"ndarray\", \"object\", \"dtype-struct\", \"concat_str\", \"mode\"] }"
   ]
  },
  {
   "cell_type": "markdown",
   "id": "fc491aa8",
   "metadata": {},
   "source": [
    "<hr />"
   ]
  },
  {
   "cell_type": "markdown",
   "id": "25c33191",
   "metadata": {},
   "source": [
    "## Import Libraries"
   ]
  },
  {
   "cell_type": "code",
   "execution_count": 3,
   "id": "c419627f",
   "metadata": {},
   "outputs": [],
   "source": [
    "use polars::datatypes::DataType;\n",
    "use polars::chunked_array::object::{FillNullStrategy, QuantileInterpolOptions};\n",
    "use polars::prelude::*;\n",
    "use chrono::{DateTime, NaiveDateTime, TimeZone, Utc};\n",
    "use std::sync::Arc;"
   ]
  },
  {
   "cell_type": "markdown",
   "id": "c20c3f8f",
   "metadata": {},
   "source": [
    "<hr />"
   ]
  },
  {
   "cell_type": "markdown",
   "id": "e9b8c34b",
   "metadata": {},
   "source": [
    "## Series Object"
   ]
  },
  {
   "cell_type": "code",
   "execution_count": 4,
   "id": "93a70fc4",
   "metadata": {},
   "outputs": [
    {
     "data": {
      "text/plain": [
       "shape: (3,)\n",
       "Series: '' [i32]\n",
       "[\n",
       "\t1\n",
       "\t2\n",
       "\t3\n",
       "]"
      ]
     },
     "execution_count": 4,
     "metadata": {},
     "output_type": "execute_result"
    }
   ],
   "source": [
    "let series1: Series = [1, 2, 3].iter().collect();\n",
    "// or\n",
    "// let series1: Series = Series::new(\"\", &[1, 2, 3]);\n",
    "series1"
   ]
  },
  {
   "cell_type": "code",
   "execution_count": 5,
   "id": "7e79e7ad",
   "metadata": {},
   "outputs": [
    {
     "data": {
      "text/plain": [
       "shape: (4,)\n",
       "Series: 'seasons' [str]\n",
       "[\n",
       "\t\"Winter\"\n",
       "\t\"Spring\"\n",
       "\t\"Summer\"\n",
       "\t\"Fall\"\n",
       "]"
      ]
     },
     "execution_count": 5,
     "metadata": {},
     "output_type": "execute_result"
    }
   ],
   "source": [
    "let seasons_ser: Series = Series::new(\"seasons\", &[\"Winter\", \"Spring\", \"Summer\", \"Fall\"]);\n",
    "seasons_ser"
   ]
  },
  {
   "cell_type": "code",
   "execution_count": 6,
   "id": "cbd029ed",
   "metadata": {},
   "outputs": [
    {
     "data": {
      "text/plain": [
       "shape: (3,)\n",
       "Series: 'seasons' [i32]\n",
       "[\n",
       "\tnull\n",
       "\t1\n",
       "\t2\n",
       "]"
      ]
     },
     "execution_count": 6,
     "metadata": {},
     "output_type": "execute_result"
    }
   ],
   "source": [
    "let s: Series = Series::new(\"seasons\", &[None, Some(1), Some(2)]);\n",
    "s"
   ]
  },
  {
   "cell_type": "code",
   "execution_count": 7,
   "id": "dedcc436",
   "metadata": {},
   "outputs": [
    {
     "data": {
      "text/plain": [
       "false"
      ]
     },
     "execution_count": 7,
     "metadata": {},
     "output_type": "execute_result"
    }
   ],
   "source": [
    "Some(f64::NAN)==None"
   ]
  },
  {
   "cell_type": "code",
   "execution_count": 8,
   "id": "06e746cd",
   "metadata": {},
   "outputs": [
    {
     "data": {
      "text/plain": [
       "false"
      ]
     },
     "execution_count": 8,
     "metadata": {},
     "output_type": "execute_result"
    }
   ],
   "source": [
    "f64::NAN==f64::NAN"
   ]
  },
  {
   "cell_type": "code",
   "execution_count": 9,
   "id": "463ce99c",
   "metadata": {},
   "outputs": [
    {
     "data": {
      "text/plain": [
       "1"
      ]
     },
     "execution_count": 9,
     "metadata": {},
     "output_type": "execute_result"
    }
   ],
   "source": [
    "let s: Series = Series::new(\"seasons\", &[None, Some(1), Some(2)]);\n",
    "s.null_count()"
   ]
  },
  {
   "cell_type": "code",
   "execution_count": 10,
   "id": "d49b2899",
   "metadata": {},
   "outputs": [
    {
     "data": {
      "text/plain": [
       "shape: (2,)\n",
       "Series: 'seasons' [i32]\n",
       "[\n",
       "\t1\n",
       "\t2\n",
       "]"
      ]
     },
     "execution_count": 10,
     "metadata": {},
     "output_type": "execute_result"
    }
   ],
   "source": [
    "s.drop_nulls()"
   ]
  },
  {
   "cell_type": "code",
   "execution_count": 11,
   "id": "645e0a22",
   "metadata": {},
   "outputs": [
    {
     "data": {
      "text/plain": [
       "shape: (3,)\n",
       "Series: 'numbers' [i64]\n",
       "[\n",
       "\tnull\n",
       "\t1\n",
       "\t2\n",
       "]"
      ]
     },
     "execution_count": 11,
     "metadata": {},
     "output_type": "execute_result"
    }
   ],
   "source": [
    "let s: Series = Series::new(\"numbers\", &[Some(f64::NAN), Some(1.), Some(2.)]);\n",
    "s.cast(&DataType::Int64).unwrap()"
   ]
  },
  {
   "cell_type": "markdown",
   "id": "cc67b480",
   "metadata": {},
   "source": [
    "## Series Creation"
   ]
  },
  {
   "cell_type": "code",
   "execution_count": 12,
   "id": "6670bae7",
   "metadata": {},
   "outputs": [
    {
     "data": {
      "text/plain": [
       "shape: (0,)\n",
       "Series: 'Height' [f32]\n",
       "[\n",
       "]"
      ]
     },
     "execution_count": 12,
     "metadata": {},
     "output_type": "execute_result"
    }
   ],
   "source": [
    "let s = Series::new_empty(\"Height\", &DataType::Float32);\n",
    "s"
   ]
  },
  {
   "cell_type": "code",
   "execution_count": 13,
   "id": "24dfadbd",
   "metadata": {},
   "outputs": [
    {
     "data": {
      "text/plain": [
       "shape: (2,)\n",
       "Series: 'employees' [str]\n",
       "[\n",
       "\t\"Mahmoud\"\n",
       "\t\"Ferris\"\n",
       "]"
      ]
     },
     "execution_count": 13,
     "metadata": {},
     "output_type": "execute_result"
    }
   ],
   "source": [
    "let s: Series = Series::new(\"employees\", &[\"Mahmoud\", \"Ferris\"]);\n",
    "s"
   ]
  },
  {
   "cell_type": "code",
   "execution_count": 14,
   "id": "7d0ea699",
   "metadata": {},
   "outputs": [
    {
     "data": {
      "text/plain": [
       "\"employees\""
      ]
     },
     "execution_count": 14,
     "metadata": {},
     "output_type": "execute_result"
    }
   ],
   "source": [
    "let s: Series = Series::new(\"employees\", &[\"Mahmoud\", \"Ferris\"]);\n",
    "s.name()"
   ]
  },
  {
   "cell_type": "code",
   "execution_count": 15,
   "id": "8e7e608d",
   "metadata": {},
   "outputs": [
    {
     "data": {
      "text/plain": [
       "shape: (2,)\n",
       "Series: 'employees' [str]\n",
       "[\n",
       "\t\"Mahmoud\"\n",
       "\t\"Ferris\"\n",
       "]"
      ]
     },
     "execution_count": 15,
     "metadata": {},
     "output_type": "execute_result"
    }
   ],
   "source": [
    "let s: Series = Series::new(\"employees\", &vec![\"Mahmoud\", \"Ferris\"]);\n",
    "s"
   ]
  },
  {
   "cell_type": "code",
   "execution_count": 16,
   "id": "fb2c6794",
   "metadata": {},
   "outputs": [
    {
     "data": {
      "text/plain": [
       "shape: (3,)\n",
       "Series: 'b' [f64]\n",
       "[\n",
       "\t1.0\n",
       "\t2.0\n",
       "\t3.0\n",
       "]"
      ]
     },
     "execution_count": 16,
     "metadata": {},
     "output_type": "execute_result"
    }
   ],
   "source": [
    "let s = Float64Chunked::new(\"b\", &[1., 2., 3.]).into_series();\n",
    "s"
   ]
  },
  {
   "cell_type": "markdown",
   "id": "a5b3b256",
   "metadata": {},
   "source": [
    "## Datetime Type"
   ]
  },
  {
   "cell_type": "code",
   "execution_count": 17,
   "id": "a7482f64",
   "metadata": {},
   "outputs": [
    {
     "data": {
      "text/plain": [
       "shape: (1,)\n",
       "Series: 'b' [date]\n",
       "[\n",
       "\t2020-01-01\n",
       "]"
      ]
     },
     "execution_count": 17,
     "metadata": {},
     "output_type": "execute_result"
    }
   ],
   "source": [
    "let date: DateTime<Utc> = Utc.with_ymd_and_hms(2020, 1, 1, 0, 0, 0).unwrap();\n",
    "let s = Series::new(\"b\", &[date.date_naive()]);\n",
    "s"
   ]
  },
  {
   "cell_type": "markdown",
   "id": "bc8b27b1",
   "metadata": {},
   "source": [
    "## Indexing & Slicing"
   ]
  },
  {
   "cell_type": "code",
   "execution_count": 18,
   "id": "2b03ff7f",
   "metadata": {},
   "outputs": [
    {
     "data": {
      "text/plain": [
       "shape: (2,)\n",
       "Series: 'employees' [str]\n",
       "[\n",
       "\t\"Ferris\"\n",
       "\t\"Mahmoud\"\n",
       "]"
      ]
     },
     "execution_count": 18,
     "metadata": {},
     "output_type": "execute_result"
    }
   ],
   "source": [
    "let s: Series = Series::new(\"employees\", &vec![\"Ferris\", \"Mahmoud\"]);\n",
    "s"
   ]
  },
  {
   "cell_type": "code",
   "execution_count": 19,
   "id": "e3827fa2",
   "metadata": {},
   "outputs": [
    {
     "data": {
      "text/plain": [
       "shape: (1,)\n",
       "Series: 'employees' [str]\n",
       "[\n",
       "\t\"Mahmoud\"\n",
       "]"
      ]
     },
     "execution_count": 19,
     "metadata": {},
     "output_type": "execute_result"
    }
   ],
   "source": [
    "let s: Series = Series::new(\"employees\", &vec![\"Mahmoud\", \"Ferris\"]);\n",
    "s.slice(0, 1)"
   ]
  },
  {
   "cell_type": "markdown",
   "id": "826bc957",
   "metadata": {},
   "source": [
    "## Length"
   ]
  },
  {
   "cell_type": "code",
   "execution_count": 20,
   "id": "61abe754",
   "metadata": {},
   "outputs": [
    {
     "data": {
      "text/plain": [
       "2"
      ]
     },
     "execution_count": 20,
     "metadata": {},
     "output_type": "execute_result"
    }
   ],
   "source": [
    "let s: Series = Series::new(\"employees\", &vec![\"Mahmoud\", \"Ferris\"]);\n",
    "s.len()"
   ]
  },
  {
   "cell_type": "markdown",
   "id": "e05b2e71",
   "metadata": {},
   "source": [
    "## Reverse"
   ]
  },
  {
   "cell_type": "code",
   "execution_count": 21,
   "id": "cf75bcf3",
   "metadata": {},
   "outputs": [
    {
     "data": {
      "text/plain": [
       "shape: (2,)\n",
       "Series: 'employees' [str]\n",
       "[\n",
       "\t\"Ferris\"\n",
       "\t\"Mahmoud\"\n",
       "]"
      ]
     },
     "execution_count": 21,
     "metadata": {},
     "output_type": "execute_result"
    }
   ],
   "source": [
    "let s: Series = Series::new(\"employees\", &vec![\"Mahmoud\", \"Ferris\"]);\n",
    "s.reverse()"
   ]
  },
  {
   "cell_type": "markdown",
   "id": "cfb9140d",
   "metadata": {},
   "source": [
    "## Empty"
   ]
  },
  {
   "cell_type": "code",
   "execution_count": 22,
   "id": "253dac33",
   "metadata": {},
   "outputs": [
    {
     "data": {
      "text/plain": [
       "false"
      ]
     },
     "execution_count": 22,
     "metadata": {},
     "output_type": "execute_result"
    }
   ],
   "source": [
    "let s: Series = Series::new(\"employees\", &vec![\"Mahmoud\", \"Ferris\"]);\n",
    "s.is_empty()"
   ]
  },
  {
   "cell_type": "markdown",
   "id": "8beb40eb",
   "metadata": {},
   "source": [
    "## Drop nulls"
   ]
  },
  {
   "cell_type": "code",
   "execution_count": 23,
   "id": "33bf049f",
   "metadata": {},
   "outputs": [
    {
     "data": {
      "text/plain": [
       "shape: (1,)\n",
       "Series: 'employees' [str]\n",
       "[\n",
       "\t\"Ferris\"\n",
       "]"
      ]
     },
     "execution_count": 23,
     "metadata": {},
     "output_type": "execute_result"
    }
   ],
   "source": [
    "let s: Series = Series::new(\"employees\", &vec![Some(\"Ferris\"), None]);\n",
    "s.drop_nulls()"
   ]
  },
  {
   "cell_type": "markdown",
   "id": "416fbba6",
   "metadata": {},
   "source": [
    "## Summarizing Series"
   ]
  },
  {
   "cell_type": "code",
   "execution_count": 40,
   "id": "63fac5d7",
   "metadata": {},
   "outputs": [
    {
     "data": {
      "text/plain": [
       "shape: (10,)\n",
       "Series: 'Measurements' [f64]\n",
       "[\n",
       "\t-1.01\n",
       "\t0.86\n",
       "\t-4.6\n",
       "\t3.98\n",
       "\t0.53\n",
       "\t-7.04\n",
       "\t3.98\n",
       "\t0.53\n",
       "\t-7.04\n",
       "\t0.86\n",
       "]"
      ]
     },
     "execution_count": 40,
     "metadata": {},
     "output_type": "execute_result"
    }
   ],
   "source": [
    "let s = Series::new(\"Measurements\", &[-1.01,  0.86, -4.60, 3.98,  0.53, -7.04, 3.98,  0.53, -7.04, 0.86, 0.16, 0.26, 0.81]);\n",
    "\n",
    "// First 10 rows\n",
    "s.head(None)"
   ]
  },
  {
   "cell_type": "code",
   "execution_count": 41,
   "id": "05830b3f",
   "metadata": {},
   "outputs": [
    {
     "data": {
      "text/plain": [
       "shape: (5,)\n",
       "Series: 'Measurements' [f64]\n",
       "[\n",
       "\t-1.01\n",
       "\t0.86\n",
       "\t-4.6\n",
       "\t3.98\n",
       "\t0.53\n",
       "]"
      ]
     },
     "execution_count": 41,
     "metadata": {},
     "output_type": "execute_result"
    }
   ],
   "source": [
    "let s = Series::new(\"Measurements\", &[-1.01,  0.86, -4.60, 3.98,  0.53, -7.04, 3.98,  0.53, -7.04, 0.86, 0.16, 0.26, 0.81]);\n",
    "\n",
    "// First 5 rows\n",
    "s.head(Some(5))"
   ]
  },
  {
   "cell_type": "code",
   "execution_count": 42,
   "id": "61cdca14",
   "metadata": {},
   "outputs": [
    {
     "data": {
      "text/plain": [
       "shape: (10,)\n",
       "Series: 'Measurements' [f64]\n",
       "[\n",
       "\t3.98\n",
       "\t0.53\n",
       "\t-7.04\n",
       "\t3.98\n",
       "\t0.53\n",
       "\t-7.04\n",
       "\t0.86\n",
       "\t0.16\n",
       "\t0.26\n",
       "\t0.81\n",
       "]"
      ]
     },
     "execution_count": 42,
     "metadata": {},
     "output_type": "execute_result"
    }
   ],
   "source": [
    "let s = Series::new(\"Measurements\", &[-1.01,  0.86, -4.60, 3.98,  0.53, -7.04, 3.98,  0.53, -7.04, 0.86, 0.16, 0.26, 0.81]);\n",
    "\n",
    "// Last 10 rows\n",
    "s.tail(None)"
   ]
  },
  {
   "cell_type": "markdown",
   "id": "119d2e5d",
   "metadata": {},
   "source": [
    "## Append"
   ]
  },
  {
   "cell_type": "code",
   "execution_count": 26,
   "id": "f65162bd",
   "metadata": {},
   "outputs": [
    {
     "data": {
      "text/plain": [
       "Ok(shape: (4,)\n",
       "Series: 'Age' [f64]\n",
       "[\n",
       "\t23.0\n",
       "\t27.0\n",
       "\t1.84\n",
       "\t1.78\n",
       "])"
      ]
     },
     "execution_count": 26,
     "metadata": {},
     "output_type": "execute_result"
    }
   ],
   "source": [
    "let mut s1 = Series::new(\"Age\", &[23., 27.]);\n",
    "let s2 = Series::new(\"Height\", &[1.84, 1.78]);\n",
    "s1.append(&s2)"
   ]
  },
  {
   "cell_type": "markdown",
   "id": "2a4e7b6d",
   "metadata": {},
   "source": [
    "## Cast"
   ]
  },
  {
   "cell_type": "code",
   "execution_count": 27,
   "id": "3b7acd52",
   "metadata": {},
   "outputs": [
    {
     "data": {
      "text/plain": [
       "shape: (9,)\n",
       "Series: 'Measurements' [i32]\n",
       "[\n",
       "\t-1\n",
       "\t0\n",
       "\t-4\n",
       "\t3\n",
       "\t0\n",
       "\t-7\n",
       "\t3\n",
       "\t0\n",
       "\t-7\n",
       "]"
      ]
     },
     "execution_count": 27,
     "metadata": {},
     "output_type": "execute_result"
    }
   ],
   "source": [
    "let mut s = Series::new(\"Measurements\", &[-1.01,  0.86, -4.60, 3.98,  0.53, -7.04, 3.98,  0.53, -7.04]);\n",
    "s.cast(&DataType::Int32).unwrap()"
   ]
  },
  {
   "cell_type": "markdown",
   "id": "da00cf52",
   "metadata": {},
   "source": [
    "## Fill Nulls"
   ]
  },
  {
   "cell_type": "markdown",
   "id": "c705ff50",
   "metadata": {},
   "source": [
    "### 1. Forward fill"
   ]
  },
  {
   "cell_type": "code",
   "execution_count": 28,
   "id": "a239fa4b",
   "metadata": {},
   "outputs": [
    {
     "data": {
      "text/plain": [
       "shape: (6,)\n",
       "Series: 'some_missing' [i32]\n",
       "[\n",
       "\t1\n",
       "\t1\n",
       "\t3\n",
       "\t4\n",
       "\t4\n",
       "\t6\n",
       "]"
      ]
     },
     "execution_count": 28,
     "metadata": {},
     "output_type": "execute_result"
    }
   ],
   "source": [
    "let s = Series::new(\"some_missing\", &[Some(1), None, Some(3), Some(4), None, Some(6)]);\n",
    "let filled = s.fill_null(FillNullStrategy::Forward(None)).unwrap();\n",
    "filled"
   ]
  },
  {
   "cell_type": "markdown",
   "id": "6284cf8e",
   "metadata": {},
   "source": [
    "### 2. Backward fill"
   ]
  },
  {
   "cell_type": "code",
   "execution_count": 29,
   "id": "cfae8d65",
   "metadata": {},
   "outputs": [
    {
     "data": {
      "text/plain": [
       "shape: (6,)\n",
       "Series: 'some_missing' [i32]\n",
       "[\n",
       "\t1\n",
       "\t1\n",
       "\t3\n",
       "\t4\n",
       "\t4\n",
       "\t6\n",
       "]"
      ]
     },
     "execution_count": 29,
     "metadata": {},
     "output_type": "execute_result"
    }
   ],
   "source": [
    "let s = Series::new(\"some_missing\", &[Some(1), None, Some(3), Some(4), None, Some(6)]);\n",
    "let filled = s.fill_null(FillNullStrategy::Forward(None)).unwrap();\n",
    "filled"
   ]
  },
  {
   "cell_type": "markdown",
   "id": "ffdd6a68",
   "metadata": {},
   "source": [
    "### 3. Mean fill"
   ]
  },
  {
   "cell_type": "code",
   "execution_count": 30,
   "id": "0d33ffa2",
   "metadata": {},
   "outputs": [
    {
     "data": {
      "text/plain": [
       "shape: (6,)\n",
       "Series: 'some_missing' [i32]\n",
       "[\n",
       "\t1\n",
       "\t3\n",
       "\t3\n",
       "\t4\n",
       "\t3\n",
       "\t6\n",
       "]"
      ]
     },
     "execution_count": 30,
     "metadata": {},
     "output_type": "execute_result"
    }
   ],
   "source": [
    "let s = Series::new(\"some_missing\", &[Some(1), None, Some(3), Some(4), None, Some(6)]);\n",
    "let filled = s.fill_null(FillNullStrategy::Mean).unwrap();\n",
    "filled"
   ]
  },
  {
   "cell_type": "markdown",
   "id": "7b24a839",
   "metadata": {},
   "source": [
    "### 4. Min fill"
   ]
  },
  {
   "cell_type": "code",
   "execution_count": 31,
   "id": "a68a40ec",
   "metadata": {},
   "outputs": [
    {
     "data": {
      "text/plain": [
       "shape: (6,)\n",
       "Series: 'some_missing' [i32]\n",
       "[\n",
       "\t1\n",
       "\t1\n",
       "\t3\n",
       "\t4\n",
       "\t1\n",
       "\t6\n",
       "]"
      ]
     },
     "execution_count": 31,
     "metadata": {},
     "output_type": "execute_result"
    }
   ],
   "source": [
    "let s = Series::new(\"some_missing\", &[Some(1), None, Some(3), Some(4), None, Some(6)]);\n",
    "let filled = s.fill_null(FillNullStrategy::Min).unwrap();\n",
    "filled"
   ]
  },
  {
   "cell_type": "markdown",
   "id": "4fc185fe",
   "metadata": {},
   "source": [
    "### 5. Max fill"
   ]
  },
  {
   "cell_type": "code",
   "execution_count": 32,
   "id": "4ff734e7",
   "metadata": {},
   "outputs": [
    {
     "data": {
      "text/plain": [
       "shape: (6,)\n",
       "Series: 'some_missing' [i32]\n",
       "[\n",
       "\t1\n",
       "\t1\n",
       "\t3\n",
       "\t4\n",
       "\t1\n",
       "\t6\n",
       "]"
      ]
     },
     "execution_count": 32,
     "metadata": {},
     "output_type": "execute_result"
    }
   ],
   "source": [
    "let s = Series::new(\"some_missing\", &[Some(1), None, Some(3), Some(4), None, Some(6)]);\n",
    "let filled = s.fill_null(FillNullStrategy::Min).unwrap();\n",
    "filled"
   ]
  },
  {
   "cell_type": "markdown",
   "id": "c7dd313b",
   "metadata": {},
   "source": [
    "## Sampling"
   ]
  },
  {
   "cell_type": "code",
   "execution_count": 33,
   "id": "0ec56831",
   "metadata": {},
   "outputs": [
    {
     "data": {
      "text/plain": [
       "Ok(shape: (4,)\n",
       "Series: 'Measurements' [f64]\n",
       "[\n",
       "\t0.53\n",
       "\t-1.01\n",
       "\t3.98\n",
       "\t0.53\n",
       "])"
      ]
     },
     "execution_count": 33,
     "metadata": {},
     "output_type": "execute_result"
    }
   ],
   "source": [
    "let s = Series::new(\"Measurements\", &[-1.01,  0.86, -4.60, 3.98,  0.53, -7.04, 3.98,  0.53, -7.04]);\n",
    "// Take 4 samples with replacement and with shuffle (we are talkin' probability here).\n",
    "s.sample_n(4, true, true, Some(9999))"
   ]
  },
  {
   "cell_type": "markdown",
   "id": "83fba4cd",
   "metadata": {},
   "source": [
    "## Descriptive statistics"
   ]
  },
  {
   "cell_type": "markdown",
   "id": "43b5f559",
   "metadata": {},
   "source": [
    "### Measures of central tendency"
   ]
  },
  {
   "cell_type": "markdown",
   "id": "a7ee4941",
   "metadata": {},
   "source": [
    "### 1. Mean"
   ]
  },
  {
   "cell_type": "code",
   "execution_count": 34,
   "id": "9e0af37a",
   "metadata": {},
   "outputs": [
    {
     "data": {
      "text/plain": [
       "-1.09"
      ]
     },
     "execution_count": 34,
     "metadata": {},
     "output_type": "execute_result"
    }
   ],
   "source": [
    "let s = Series::new(\"Measurements\", &[-1.01,  0.86, -4.60, 3.98,  0.53, -7.04, 3.98,  0.53, -7.04]);\n",
    "s.mean().unwrap()"
   ]
  },
  {
   "cell_type": "markdown",
   "id": "ec87e5c9",
   "metadata": {},
   "source": [
    "### 2. Median"
   ]
  },
  {
   "cell_type": "code",
   "execution_count": 35,
   "id": "64eb9d9e",
   "metadata": {},
   "outputs": [
    {
     "data": {
      "text/plain": [
       "0.53"
      ]
     },
     "execution_count": 35,
     "metadata": {},
     "output_type": "execute_result"
    }
   ],
   "source": [
    "let s = Series::new(\"Measurements\", &[-1.01,  0.86, -4.60, 3.98,  0.53, -7.04, 3.98,  0.53, -7.04]);\n",
    "s.median().unwrap()"
   ]
  },
  {
   "cell_type": "markdown",
   "id": "5d5816e3",
   "metadata": {},
   "source": [
    "### 3. Mode"
   ]
  },
  {
   "cell_type": "code",
   "execution_count": 36,
   "id": "d60f2d8c",
   "metadata": {},
   "outputs": [
    {
     "data": {
      "text/plain": [
       "shape: (3,)\n",
       "Series: 'Measurements' [f64]\n",
       "[\n",
       "\t3.98\n",
       "\t0.53\n",
       "\t-7.04\n",
       "]"
      ]
     },
     "execution_count": 36,
     "metadata": {},
     "output_type": "execute_result"
    }
   ],
   "source": [
    "let s = Series::new(\"Measurements\", &[-1.01,  0.86, -4.60, 3.98,  0.53, -7.04, 3.98,  0.53, -7.04]);\n",
    "s.mode().unwrap()"
   ]
  },
  {
   "cell_type": "markdown",
   "id": "b6ea8b15",
   "metadata": {},
   "source": [
    "### Measures of spread"
   ]
  },
  {
   "cell_type": "markdown",
   "id": "6dae9d26",
   "metadata": {},
   "source": [
    "### 1. Interquartile range"
   ]
  },
  {
   "cell_type": "code",
   "execution_count": 37,
   "id": "4a2af097",
   "metadata": {},
   "outputs": [
    {
     "data": {
      "text/plain": [
       "shape: (1,)\n",
       "Series: 'Measurements' [f64]\n",
       "[\n",
       "\t0.86\n",
       "]"
      ]
     },
     "execution_count": 37,
     "metadata": {},
     "output_type": "execute_result"
    }
   ],
   "source": [
    "let s = Series::new(\"Measurements\", &[-1.01,  0.86, -4.60, 3.98,  0.53, -7.04, 3.98,  0.53, -7.04]);\n",
    "s.quantile_as_series(0.75, QuantileInterpolOptions::Nearest).unwrap()"
   ]
  },
  {
   "cell_type": "markdown",
   "id": "cb28a41d",
   "metadata": {},
   "source": [
    "<hr />"
   ]
  },
  {
   "cell_type": "markdown",
   "id": "76fb382f",
   "metadata": {},
   "source": [
    "## DataFrame Object"
   ]
  },
  {
   "cell_type": "markdown",
   "id": "a15f8d34",
   "metadata": {},
   "source": [
    "### DataFrame Initialization"
   ]
  },
  {
   "cell_type": "code",
   "execution_count": 43,
   "id": "99cd6658",
   "metadata": {},
   "outputs": [
    {
     "data": {
      "text/plain": [
       "shape: (0, 0)\n",
       "┌┐\n",
       "╞╡\n",
       "└┘"
      ]
     },
     "execution_count": 43,
     "metadata": {},
     "output_type": "execute_result"
    }
   ],
   "source": [
    "let df = DataFrame::default();\n",
    "df"
   ]
  },
  {
   "cell_type": "code",
   "execution_count": 51,
   "id": "a5b55a18",
   "metadata": {},
   "outputs": [
    {
     "data": {
      "text/plain": [
       "shape: (2, 3)\n",
       "┌─────────┬─────┬────────┐\n",
       "│ Name    ┆ Age ┆ Height │\n",
       "│ ---     ┆ --- ┆ ---    │\n",
       "│ str     ┆ i32 ┆ f64    │\n",
       "╞═════════╪═════╪════════╡\n",
       "│ Mahmoud ┆ 23  ┆ 1.84   │\n",
       "│ Ali     ┆ 27  ┆ 1.78   │\n",
       "└─────────┴─────┴────────┘"
      ]
     },
     "execution_count": 51,
     "metadata": {},
     "output_type": "execute_result"
    }
   ],
   "source": [
    "let s1 = Series::new(\"Name\", &[\"Mahmoud\", \"Ali\"]);\n",
    "let s2 = Series::new(\"Age\", &[23, 27]);\n",
    "let s3 = Series::new(\"Height\", &[1.84, 1.78]);\n",
    "\n",
    "let df: DataFrame = DataFrame::new(vec![s1, s2, s3]).unwrap();\n",
    "df"
   ]
  },
  {
   "cell_type": "markdown",
   "id": "497b8b2d",
   "metadata": {},
   "source": [
    "### Describe"
   ]
  },
  {
   "cell_type": "code",
   "execution_count": 45,
   "id": "60726c2c",
   "metadata": {},
   "outputs": [
    {
     "data": {
      "text/plain": [
       "shape: (3, 3)\n",
       "┌─────────────┬─────────┬────────┐\n",
       "│ categorical ┆ numeric ┆ object │\n",
       "│ ---         ┆ ---     ┆ ---    │\n",
       "│ str         ┆ i32     ┆ str    │\n",
       "╞═════════════╪═════════╪════════╡\n",
       "│ d           ┆ 1       ┆ a      │\n",
       "│ e           ┆ 2       ┆ b      │\n",
       "│ f           ┆ 3       ┆ c      │\n",
       "└─────────────┴─────────┴────────┘"
      ]
     },
     "execution_count": 45,
     "metadata": {},
     "output_type": "execute_result"
    }
   ],
   "source": [
    "let df1: DataFrame = df!(\"categorical\" => &[\"d\",\"e\",\"f\"],\n",
    "                         \"numeric\" => &[1, 2, 3],\n",
    "                         \"object\" => &[\"a\", \"b\", \"c\"]).unwrap();\n",
    "df1"
   ]
  },
  {
   "cell_type": "code",
   "execution_count": 46,
   "id": "1e5f57df",
   "metadata": {},
   "outputs": [
    {
     "data": {
      "text/plain": [
       "shape: (9, 4)\n",
       "┌────────────┬─────────────┬─────────┬────────┐\n",
       "│ describe   ┆ categorical ┆ numeric ┆ object │\n",
       "│ ---        ┆ ---         ┆ ---     ┆ ---    │\n",
       "│ str        ┆ str         ┆ f64     ┆ str    │\n",
       "╞════════════╪═════════════╪═════════╪════════╡\n",
       "│ count      ┆ 3           ┆ 3.0     ┆ 3      │\n",
       "│ null_count ┆ 0           ┆ 0.0     ┆ 0      │\n",
       "│ mean       ┆ null        ┆ 2.0     ┆ null   │\n",
       "│ std        ┆ null        ┆ 1.0     ┆ null   │\n",
       "│ …          ┆ …           ┆ …       ┆ …      │\n",
       "│ 25%        ┆ null        ┆ 1.5     ┆ null   │\n",
       "│ 50%        ┆ null        ┆ 2.0     ┆ null   │\n",
       "│ 75%        ┆ null        ┆ 2.5     ┆ null   │\n",
       "│ max        ┆ f           ┆ 3.0     ┆ c      │\n",
       "└────────────┴─────────────┴─────────┴────────┘"
      ]
     },
     "execution_count": 46,
     "metadata": {},
     "output_type": "execute_result"
    }
   ],
   "source": [
    "let df2: DataFrame = df1.describe(None).unwrap();\n",
    "df2"
   ]
  },
  {
   "cell_type": "markdown",
   "id": "29dccc36",
   "metadata": {},
   "source": [
    "### Head"
   ]
  },
  {
   "cell_type": "code",
   "execution_count": 47,
   "id": "3601ce5f",
   "metadata": {},
   "outputs": [
    {
     "data": {
      "text/plain": [
       "shape: (2, 3)\n",
       "┌─────────┬─────┬────────┐\n",
       "│ Name    ┆ Age ┆ Height │\n",
       "│ ---     ┆ --- ┆ ---    │\n",
       "│ str     ┆ i32 ┆ f64    │\n",
       "╞═════════╪═════╪════════╡\n",
       "│ Mahmoud ┆ 23  ┆ 1.84   │\n",
       "│ Bob     ┆ 27  ┆ 1.78   │\n",
       "└─────────┴─────┴────────┘"
      ]
     },
     "execution_count": 47,
     "metadata": {},
     "output_type": "execute_result"
    }
   ],
   "source": [
    "let df: DataFrame = df!(\"Name\" => &[\"Mahmoud\", \"Bob\"],\n",
    "                                      \"Age\" => &[23, 27],\n",
    "                                      \"Height\" => &[1.84, 1.78]).unwrap();\n",
    "// First 10 rows\n",
    "df.head(None)"
   ]
  },
  {
   "cell_type": "code",
   "execution_count": 48,
   "id": "30677858",
   "metadata": {},
   "outputs": [
    {
     "data": {
      "text/plain": [
       "shape: (1, 3)\n",
       "┌─────────┬─────┬────────┐\n",
       "│ Name    ┆ Age ┆ Height │\n",
       "│ ---     ┆ --- ┆ ---    │\n",
       "│ str     ┆ i32 ┆ f64    │\n",
       "╞═════════╪═════╪════════╡\n",
       "│ Mahmoud ┆ 23  ┆ 1.84   │\n",
       "└─────────┴─────┴────────┘"
      ]
     },
     "execution_count": 48,
     "metadata": {},
     "output_type": "execute_result"
    }
   ],
   "source": [
    "let df: DataFrame = df!(\"Name\" => &[\"Mahmoud\", \"Bob\"],\n",
    "                                      \"Age\" => &[23, 27],\n",
    "                                      \"Height\" => &[1.84, 1.78]).unwrap();\n",
    "// First row\n",
    "df.head(Some(1))"
   ]
  },
  {
   "cell_type": "markdown",
   "id": "abc1a959",
   "metadata": {},
   "source": [
    "### Tail"
   ]
  },
  {
   "cell_type": "code",
   "execution_count": 49,
   "id": "a3fa7318",
   "metadata": {},
   "outputs": [
    {
     "data": {
      "text/plain": [
       "shape: (2, 3)\n",
       "┌─────────┬─────┬────────┐\n",
       "│ Name    ┆ Age ┆ Height │\n",
       "│ ---     ┆ --- ┆ ---    │\n",
       "│ str     ┆ i32 ┆ f64    │\n",
       "╞═════════╪═════╪════════╡\n",
       "│ Mahmoud ┆ 23  ┆ 1.84   │\n",
       "│ Bob     ┆ 27  ┆ 1.78   │\n",
       "└─────────┴─────┴────────┘"
      ]
     },
     "execution_count": 49,
     "metadata": {},
     "output_type": "execute_result"
    }
   ],
   "source": [
    "let df: DataFrame = df!(\"Name\" => &[\"Mahmoud\", \"Bob\"],\n",
    "                                      \"Age\" => &[23, 27],\n",
    "                                      \"Height\" => &[1.84, 1.78]).unwrap();\n",
    "// Last 10 rows\n",
    "df.tail(None)"
   ]
  },
  {
   "cell_type": "code",
   "execution_count": 50,
   "id": "534ec45a",
   "metadata": {},
   "outputs": [
    {
     "data": {
      "text/plain": [
       "shape: (1, 3)\n",
       "┌──────┬─────┬────────┐\n",
       "│ Name ┆ Age ┆ Height │\n",
       "│ ---  ┆ --- ┆ ---    │\n",
       "│ str  ┆ i32 ┆ f64    │\n",
       "╞══════╪═════╪════════╡\n",
       "│ Bob  ┆ 27  ┆ 1.78   │\n",
       "└──────┴─────┴────────┘"
      ]
     },
     "execution_count": 50,
     "metadata": {},
     "output_type": "execute_result"
    }
   ],
   "source": [
    "let df: DataFrame = df!(\"Name\" => &[\"Mahmoud\", \"Bob\"],\n",
    "                                      \"Age\" => &[23, 27],\n",
    "                                      \"Height\" => &[1.84, 1.78]).unwrap();\n",
    "// Last row\n",
    "df.tail(Some(1))"
   ]
  },
  {
   "cell_type": "markdown",
   "id": "45b391f7",
   "metadata": {},
   "source": [
    "### Indexing & Slicing"
   ]
  },
  {
   "cell_type": "code",
   "execution_count": 56,
   "id": "1a864463",
   "metadata": {},
   "outputs": [
    {
     "name": "stdout",
     "output_type": "stream",
     "text": [
      "shape: (3,)\n",
      "Series: 'Name' [str]\n",
      "[\n",
      "\t\"Mahmoud\"\n",
      "\t\"Ali\"\n",
      "\t\"ThePrimeagen\"\n",
      "]\n"
     ]
    }
   ],
   "source": [
    "let df = df!(\"Name\" => &[\"Mahmoud\", \"Ali\", \"ThePrimeagen\"],\n",
    "             \"Age\" => &[22, 25, 29],\n",
    "             \"Gender\" => &[\"M\", \"M\", \"M\"],\n",
    "             \"Salary\" => &[50000, 60000, 250000]).unwrap();\n",
    "{\n",
    "    let name_col = &df[\"Name\"];\n",
    "    println!(\"{}\", name_col);\n",
    "}\n",
    "// or\n",
    "// let name_col1 = &df[0];"
   ]
  },
  {
   "cell_type": "code",
   "execution_count": 69,
   "id": "034b323c",
   "metadata": {},
   "outputs": [
    {
     "data": {
      "text/plain": [
       "shape: (3, 2)\n",
       "┌──────────────┬─────┐\n",
       "│ Name         ┆ Age │\n",
       "│ ---          ┆ --- │\n",
       "│ str          ┆ i32 │\n",
       "╞══════════════╪═════╡\n",
       "│ Mahmoud      ┆ 22  │\n",
       "│ Ali          ┆ 25  │\n",
       "│ ThePrimeagen ┆ 29  │\n",
       "└──────────────┴─────┘"
      ]
     },
     "execution_count": 69,
     "metadata": {},
     "output_type": "execute_result"
    }
   ],
   "source": [
    "let df = df!(\"Name\" => &[\"Mahmoud\", \"Ali\", \"ThePrimeagen\"],\n",
    "             \"Age\" => &[22, 25, 29],\n",
    "             \"Gender\" => &[\"M\", \"M\", \"M\"],\n",
    "             \"Salary\" => &[50000, 60000, 250000]).unwrap();\n",
    "\n",
    "let name_age_cols = df.select([\"Name\", \"Age\"]).unwrap();\n",
    "name_age_cols"
   ]
  },
  {
   "cell_type": "code",
   "execution_count": 73,
   "id": "85fd56b5",
   "metadata": {},
   "outputs": [
    {
     "name": "stdout",
     "output_type": "stream",
     "text": [
      "Ok(shape: (3,)\n",
      "Series: 'Name' [str]\n",
      "[\n",
      "\t\"Mahmoud\"\n",
      "\t\"Ali\"\n",
      "\t\"ThePrimeagen\"\n",
      "])\n"
     ]
    },
    {
     "data": {
      "text/plain": [
       "()"
      ]
     },
     "execution_count": 73,
     "metadata": {},
     "output_type": "execute_result"
    }
   ],
   "source": [
    "let df = df!(\"Name\" => &[\"Mahmoud\", \"Ali\", \"ThePrimeagen\"],\n",
    "             \"Age\" => &[22, 25, 29],\n",
    "             \"Gender\" => &[\"M\", \"M\", \"M\"],\n",
    "             \"Salary\" => &[50000, 60000, 250000]).unwrap();\n",
    "\n",
    "{\n",
    "    let name_col = df.column(\"Name\");\n",
    "    println!(\"{:?}\", name_col);\n",
    "}"
   ]
  },
  {
   "cell_type": "code",
   "execution_count": 72,
   "id": "a8c3f7a6",
   "metadata": {},
   "outputs": [
    {
     "name": "stdout",
     "output_type": "stream",
     "text": [
      "shape: (1, 4)\n",
      "┌──────────────┬─────┬────────┬────────┐\n",
      "│ Name         ┆ Age ┆ Gender ┆ Salary │\n",
      "│ str          ┆ i32 ┆ str    ┆ i32    │\n",
      "│ ---          ┆ --- ┆ ---    ┆ ---    │\n",
      "╞══════════════╪═════╪════════╪════════╡\n",
      "│ ThePrimeagen ┆ 36  ┆ M      ┆ 250000 │\n",
      "└──────────────┴─────┴────────┴────────┘\n"
     ]
    }
   ],
   "source": [
    "let df = df!(\"Name\" => &[\"Mahmoud\", \"Ali\", \"ThePrimeagen\"],\n",
    "             \"Age\" => &[22, 25, 36],\n",
    "             \"Gender\" => &[\"M\", \"M\", \"M\"],\n",
    "             \"Salary\" => &[50000, 60000, 250000]).unwrap();\n",
    "\n",
    "\n",
    "let mask = df.column(\"Age\").expect(\"Age must exist!\").gt(25).unwrap();\n",
    "let filtered_data = df.filter(&mask).unwrap();\n",
    "println!(\"{:?}\", filtered_data);"
   ]
  },
  {
   "cell_type": "code",
   "execution_count": 74,
   "id": "a2f8e919",
   "metadata": {},
   "outputs": [
    {
     "data": {
      "text/plain": [
       "shape: (1, 4)\n",
       "┌──────────────┬─────┬────────┬────────┐\n",
       "│ Name         ┆ Age ┆ Gender ┆ Salary │\n",
       "│ ---          ┆ --- ┆ ---    ┆ ---    │\n",
       "│ str          ┆ i32 ┆ str    ┆ i32    │\n",
       "╞══════════════╪═════╪════════╪════════╡\n",
       "│ ThePrimeagen ┆ 36  ┆ M      ┆ 250000 │\n",
       "└──────────────┴─────┴────────┴────────┘"
      ]
     },
     "execution_count": 74,
     "metadata": {},
     "output_type": "execute_result"
    }
   ],
   "source": [
    "let df = df!(\"Name\" => &[\"Mahmoud\", \"Ali\", \"ThePrimeagen\"],\n",
    "             \"Age\" => &[22, 25, 36],\n",
    "             \"Gender\" => &[\"M\", \"M\", \"M\"],\n",
    "             \"Salary\" => &[50000, 60000, 250000]).unwrap();\n",
    "\n",
    "df.slice(2, 3)"
   ]
  },
  {
   "cell_type": "code",
   "execution_count": 75,
   "id": "265cdaea",
   "metadata": {},
   "outputs": [
    {
     "data": {
      "text/plain": [
       "shape: (4,)\n",
       "Series: 'column_0' [str]\n",
       "[\n",
       "\t\"Mahmoud\"\n",
       "\t\"22\"\n",
       "\t\"M\"\n",
       "\t\"50000\"\n",
       "]"
      ]
     },
     "execution_count": 75,
     "metadata": {},
     "output_type": "execute_result"
    }
   ],
   "source": [
    "let df = df!(\"Name\" => &[\"Mahmoud\", \"Ali\", \"ThePrimeagen\"],\n",
    "             \"Age\" => &[22, 25, 36],\n",
    "             \"Gender\" => &[\"M\", \"M\", \"M\"],\n",
    "             \"Salary\" => &[50000, 60000, 250000]).unwrap();\n",
    "\n",
    "df.transpose().unwrap()[0]"
   ]
  },
  {
   "cell_type": "markdown",
   "id": "5edeef40",
   "metadata": {},
   "source": [
    "## Data Cleaning"
   ]
  },
  {
   "cell_type": "markdown",
   "id": "e156df3c",
   "metadata": {},
   "source": [
    "### Nulls Count"
   ]
  },
  {
   "cell_type": "code",
   "execution_count": 76,
   "id": "24dfd551",
   "metadata": {},
   "outputs": [
    {
     "data": {
      "text/plain": [
       "shape: (1, 4)\n",
       "┌──────┬─────┬────────┬────────┐\n",
       "│ Name ┆ Age ┆ Gender ┆ Salary │\n",
       "│ ---  ┆ --- ┆ ---    ┆ ---    │\n",
       "│ u32  ┆ u32 ┆ u32    ┆ u32    │\n",
       "╞══════╪═════╪════════╪════════╡\n",
       "│ 2    ┆ 0   ┆ 0      ┆ 0      │\n",
       "└──────┴─────┴────────┴────────┘"
      ]
     },
     "execution_count": 76,
     "metadata": {},
     "output_type": "execute_result"
    }
   ],
   "source": [
    "let df = df!(\"Name\" => &[Some(\"Mahmoud\"),  None, None],\n",
    "             \"Age\" => &[22, 25, 36],\n",
    "             \"Gender\" => &[\"M\", \"M\", \"M\"],\n",
    "             \"Salary\" => &[50000, 60000, 250000]).unwrap();\n",
    "\n",
    " df.null_count()"
   ]
  },
  {
   "cell_type": "markdown",
   "id": "9c71e122",
   "metadata": {},
   "source": [
    "### Duplicates"
   ]
  },
  {
   "cell_type": "code",
   "execution_count": 77,
   "id": "07597d38",
   "metadata": {},
   "outputs": [
    {
     "data": {
      "text/plain": [
       "shape: (2, 4)\n",
       "┌─────────┬─────┬────────┬────────┐\n",
       "│ Name    ┆ Age ┆ Gender ┆ Salary │\n",
       "│ ---     ┆ --- ┆ ---    ┆ ---    │\n",
       "│ str     ┆ i32 ┆ str    ┆ i32    │\n",
       "╞═════════╪═════╪════════╪════════╡\n",
       "│ Mahmoud ┆ 22  ┆ M      ┆ 50000  │\n",
       "│ Mahmoud ┆ 22  ┆ M      ┆ 50000  │\n",
       "└─────────┴─────┴────────┴────────┘"
      ]
     },
     "execution_count": 77,
     "metadata": {},
     "output_type": "execute_result"
    }
   ],
   "source": [
    "let df = df!(\"Name\" => &[\"Mahmoud\",  \"Mahmoud\", \"ThePrimeagen\"],\n",
    "             \"Age\" => &[22, 22, 36],\n",
    "             \"Gender\" => &[\"M\", \"M\", \"M\"],\n",
    "             \"Salary\" => &[50000, 50000, 250000]).unwrap();\n",
    "let mask = df.is_duplicated().unwrap();\n",
    "let filtered_data = df.filter(&mask).unwrap();\n",
    "filtered_data"
   ]
  },
  {
   "cell_type": "markdown",
   "id": "f67a8fdb",
   "metadata": {},
   "source": [
    "### Unique Values"
   ]
  },
  {
   "cell_type": "code",
   "execution_count": 78,
   "id": "ac200aa7",
   "metadata": {},
   "outputs": [
    {
     "data": {
      "text/plain": [
       "shape: (1, 4)\n",
       "┌──────────────┬─────┬────────┬────────┐\n",
       "│ Name         ┆ Age ┆ Gender ┆ Salary │\n",
       "│ ---          ┆ --- ┆ ---    ┆ ---    │\n",
       "│ str          ┆ i32 ┆ str    ┆ i32    │\n",
       "╞══════════════╪═════╪════════╪════════╡\n",
       "│ ThePrimeagen ┆ 36  ┆ M      ┆ 250000 │\n",
       "└──────────────┴─────┴────────┴────────┘"
      ]
     },
     "execution_count": 78,
     "metadata": {},
     "output_type": "execute_result"
    }
   ],
   "source": [
    "let df = df!(\"Name\" => &[\"Mahmoud\",  \"Mahmoud\", \"ThePrimeagen\"],\n",
    "             \"Age\" => &[22, 22, 36],\n",
    "             \"Gender\" => &[\"M\", \"M\", \"M\"],\n",
    "             \"Salary\" => &[50000, 50000, 250000]).unwrap();\n",
    "let mask = df.is_unique().unwrap();\n",
    "let filtered_data = df.filter(&mask).unwrap();\n",
    "filtered_data"
   ]
  },
  {
   "cell_type": "markdown",
   "id": "a13614d0",
   "metadata": {},
   "source": [
    "### Drop"
   ]
  },
  {
   "cell_type": "code",
   "execution_count": 80,
   "id": "ea27d9f3",
   "metadata": {},
   "outputs": [
    {
     "name": "stdout",
     "output_type": "stream",
     "text": [
      "shape: (3, 1)\n",
      "┌───────┐\n",
      "│ Fruit │\n",
      "│ ---   │\n",
      "│ str   │\n",
      "│ Apple │\n",
      "╞═══════╡\n",
      "│ Apple │\n",
      "│ Pear  │\n",
      "└───────┘\n",
      "shape: (3, 2)\n",
      "┌───────┬────────┐\n",
      "│ Fruit ┆ Color  │\n",
      "│ ---   ┆ ---    │\n",
      "│ str   ┆ str    │\n",
      "╞═══════╪════════╡\n",
      "│ Apple ┆ Red    │\n",
      "│ Apple ┆ Yellow │\n",
      "│ Pear  ┆ Green  │\n",
      "└───────┴────────┘\n"
     ]
    }
   ],
   "source": [
    "let df: DataFrame = df!(\"Fruit\" => &[\"Apple\", \"Apple\", \"Pear\"],\n",
    "                        \"Color\" => &[\"Red\", \"Yellow\", \"Green\"]).unwrap();\n",
    "let df_remain = df.drop(\"Color\").unwrap(); \n",
    "println!(\"{}\", df_remain);\n",
    "println!(\"{}\", df); // the original DataFrame"
   ]
  },
  {
   "cell_type": "code",
   "execution_count": 81,
   "id": "24750eff",
   "metadata": {},
   "outputs": [
    {
     "data": {
      "text/plain": [
       "shape: (3, 1)\n",
       "┌───────┐\n",
       "│ Fruit │\n",
       "│ ---   │\n",
       "│ str   │\n",
       "╞═══════╡\n",
       "│ Apple │\n",
       "│ Apple │\n",
       "│ Pear  │\n",
       "└───────┘"
      ]
     },
     "execution_count": 81,
     "metadata": {},
     "output_type": "execute_result"
    }
   ],
   "source": [
    "let mut df: DataFrame = df!(\"Fruit\" => &[\"Apple\", \"Apple\", \"Pear\"],\n",
    "                                      \"Color\" => &[\"Red\", \"Yellow\", \"Green\"]).unwrap();\n",
    "df.drop_in_place(\"Color\"); // remove the row with index 1 (\"Banana\") from df\n",
    "df"
   ]
  },
  {
   "cell_type": "code",
   "execution_count": 84,
   "id": "b424aeb0",
   "metadata": {},
   "outputs": [
    {
     "data": {
      "text/plain": [
       "shape: (3, 1)\n",
       "┌───────┐\n",
       "│ Fruit │\n",
       "│ ---   │\n",
       "│ str   │\n",
       "╞═══════╡\n",
       "│ Apple │\n",
       "│ Apple │\n",
       "│ Pear  │\n",
       "└───────┘"
      ]
     },
     "execution_count": 84,
     "metadata": {},
     "output_type": "execute_result"
    }
   ],
   "source": [
    "let df: DataFrame = df!(\"Fruit\" => &[\"Apple\", \"Apple\", \"Pear\"],\n",
    "                                      \"Color\" => &[\"Red\", \"Yellow\", \"Green\"]).unwrap();\n",
    "let df_dropped_col = df.drop_many(&[\"Color\", \"\"]);\n",
    "df_dropped_col"
   ]
  },
  {
   "cell_type": "code",
   "execution_count": 85,
   "id": "13a3e065",
   "metadata": {},
   "outputs": [
    {
     "data": {
      "text/plain": [
       "shape: (1, 2)\n",
       "┌───────┬───────┐\n",
       "│ Fruit ┆ Color │\n",
       "│ ---   ┆ ---   │\n",
       "│ str   ┆ str   │\n",
       "╞═══════╪═══════╡\n",
       "│ Apple ┆ Red   │\n",
       "└───────┴───────┘"
      ]
     },
     "execution_count": 85,
     "metadata": {},
     "output_type": "execute_result"
    }
   ],
   "source": [
    "let df: DataFrame = df!(\"Fruit\" => &[\"Apple\", \"Apple\", \"Pear\"],\n",
    "                                      \"Color\" => &[Some(\"Red\"), None, None]).unwrap();\n",
    "let df_clean = df.drop_nulls::<String>(None).unwrap();\n",
    "df_clean"
   ]
  },
  {
   "cell_type": "code",
   "execution_count": 86,
   "id": "808bdf45",
   "metadata": {},
   "outputs": [
    {
     "data": {
      "text/plain": [
       "shape: (3,)\n",
       "ChunkedArray: 'Salary' [bool]\n",
       "[\n",
       "\ttrue\n",
       "\ttrue\n",
       "\tfalse\n",
       "]"
      ]
     },
     "execution_count": 86,
     "metadata": {},
     "output_type": "execute_result"
    }
   ],
   "source": [
    "let df = df!(\"Name\" => &[\"Mahmoud\", \"Ali\", \"ThePrimeagen\"],\n",
    "             \"Age\" => &[22, 25, 36],\n",
    "             \"Gender\" => &[\"M\", \"M\", \"M\"],\n",
    "             \"Salary\" => &[Some(50000), Some(60000), None]).unwrap();\n",
    "let mask = df.column(\"Salary\").expect(\"Salary must exist!\").is_not_null();\n",
    "mask.head(None)"
   ]
  },
  {
   "cell_type": "code",
   "execution_count": 87,
   "id": "d756361a",
   "metadata": {},
   "outputs": [
    {
     "data": {
      "text/plain": [
       "shape: (2, 4)\n",
       "┌─────────┬─────┬────────┬────────┐\n",
       "│ Name    ┆ Age ┆ Gender ┆ Salary │\n",
       "│ ---     ┆ --- ┆ ---    ┆ ---    │\n",
       "│ str     ┆ i32 ┆ str    ┆ i32    │\n",
       "╞═════════╪═════╪════════╪════════╡\n",
       "│ Mahmoud ┆ 22  ┆ M      ┆ 50000  │\n",
       "│ Ali     ┆ 25  ┆ M      ┆ 60000  │\n",
       "└─────────┴─────┴────────┴────────┘"
      ]
     },
     "execution_count": 87,
     "metadata": {},
     "output_type": "execute_result"
    }
   ],
   "source": [
    "let df = df!(\"Name\" => &[\"Mahmoud\", \"Ali\", \"ThePrimeagen\"],\n",
    "             \"Age\" => &[22, 25, 36],\n",
    "             \"Gender\" => &[\"M\", \"M\", \"M\"],\n",
    "             \"Salary\" => &[Some(50000), Some(60000), None]).unwrap();\n",
    "let filtered_data = df.filter(&mask).unwrap();\n",
    "filtered_data"
   ]
  },
  {
   "cell_type": "markdown",
   "id": "7be1a68a",
   "metadata": {},
   "source": [
    "### Fill"
   ]
  },
  {
   "cell_type": "code",
   "execution_count": 88,
   "id": "99cc4307",
   "metadata": {
    "scrolled": true
   },
   "outputs": [
    {
     "data": {
      "text/plain": [
       "shape: (3, 4)\n",
       "┌──────────────┬─────┬────────┬────────┐\n",
       "│ Name         ┆ Age ┆ Gender ┆ Salary │\n",
       "│ ---          ┆ --- ┆ ---    ┆ ---    │\n",
       "│ str          ┆ i32 ┆ str    ┆ i32    │\n",
       "╞══════════════╪═════╪════════╪════════╡\n",
       "│ Mahmoud      ┆ 22  ┆ M      ┆ 50000  │\n",
       "│ Ali          ┆ 25  ┆ M      ┆ 60000  │\n",
       "│ ThePrimeagen ┆ 36  ┆ M      ┆ 60000  │\n",
       "└──────────────┴─────┴────────┴────────┘"
      ]
     },
     "execution_count": 88,
     "metadata": {},
     "output_type": "execute_result"
    }
   ],
   "source": [
    "let mut df = df!(\"Name\" => &[\"Mahmoud\", \"Ali\", \"ThePrimeagen\"],\n",
    "             \"Age\" => &[22, 25, 36],\n",
    "             \"Gender\" => &[\"M\", \"M\", \"M\"],\n",
    "             \"Salary\" => &[Some(50000), Some(60000), None]).unwrap();\n",
    "\n",
    "let filtered_nulls = df.fill_null(FillNullStrategy::Forward(None)).unwrap();\n",
    "filtered_nulls"
   ]
  },
  {
   "cell_type": "markdown",
   "id": "430dd66a",
   "metadata": {},
   "source": [
    "## Measures of central tendency"
   ]
  },
  {
   "cell_type": "markdown",
   "id": "6892746e",
   "metadata": {},
   "source": [
    "### Mean"
   ]
  },
  {
   "cell_type": "code",
   "execution_count": 89,
   "id": "1a00a9cf",
   "metadata": {},
   "outputs": [
    {
     "data": {
      "text/plain": [
       "shape: (1, 4)\n",
       "┌──────┬───────────┬────────┬─────────┐\n",
       "│ Name ┆ Age       ┆ Gender ┆ Salary  │\n",
       "│ ---  ┆ ---       ┆ ---    ┆ ---     │\n",
       "│ str  ┆ f64       ┆ str    ┆ f64     │\n",
       "╞══════╪═══════════╪════════╪═════════╡\n",
       "│ null ┆ 27.666667 ┆ null   ┆ 55000.0 │\n",
       "└──────┴───────────┴────────┴─────────┘"
      ]
     },
     "execution_count": 89,
     "metadata": {},
     "output_type": "execute_result"
    }
   ],
   "source": [
    "let df = df!(\"Name\" => &[\"Mahmoud\", \"Ali\", \"ThePrimeagen\"],\n",
    "             \"Age\" => &[22, 25, 36],\n",
    "             \"Gender\" => &[\"M\", \"M\", \"M\"],\n",
    "             \"Salary\" => &[Some(50000), Some(60000), None]).unwrap();\n",
    "\n",
    "df.mean()"
   ]
  },
  {
   "cell_type": "markdown",
   "id": "3a6e8b4f",
   "metadata": {},
   "source": [
    "### Median"
   ]
  },
  {
   "cell_type": "code",
   "execution_count": 90,
   "id": "e21fb227",
   "metadata": {},
   "outputs": [
    {
     "data": {
      "text/plain": [
       "shape: (1, 4)\n",
       "┌──────┬──────┬────────┬─────────┐\n",
       "│ Name ┆ Age  ┆ Gender ┆ Salary  │\n",
       "│ ---  ┆ ---  ┆ ---    ┆ ---     │\n",
       "│ str  ┆ f64  ┆ str    ┆ f64     │\n",
       "╞══════╪══════╪════════╪═════════╡\n",
       "│ null ┆ 25.0 ┆ null   ┆ 55000.0 │\n",
       "└──────┴──────┴────────┴─────────┘"
      ]
     },
     "execution_count": 90,
     "metadata": {},
     "output_type": "execute_result"
    }
   ],
   "source": [
    "let df = df!(\"Name\" => &[\"Mahmoud\", \"Ali\", \"ThePrimeagen\"],\n",
    "             \"Age\" => &[22, 25, 36],\n",
    "             \"Gender\" => &[\"M\", \"M\", \"M\"],\n",
    "             \"Salary\" => &[Some(50000), Some(60000), None]).unwrap();\n",
    "\n",
    "df.median()"
   ]
  },
  {
   "cell_type": "markdown",
   "id": "790ee654",
   "metadata": {},
   "source": [
    "## Measures of spread"
   ]
  },
  {
   "cell_type": "markdown",
   "id": "3a16bb84",
   "metadata": {},
   "source": [
    "### std"
   ]
  },
  {
   "cell_type": "code",
   "execution_count": 91,
   "id": "2a69879e",
   "metadata": {},
   "outputs": [
    {
     "data": {
      "text/plain": [
       "shape: (1, 4)\n",
       "┌──────┬──────────┬────────┬─────────────┐\n",
       "│ Name ┆ Age      ┆ Gender ┆ Salary      │\n",
       "│ ---  ┆ ---      ┆ ---    ┆ ---         │\n",
       "│ str  ┆ f64      ┆ str    ┆ f64         │\n",
       "╞══════╪══════════╪════════╪═════════════╡\n",
       "│ null ┆ 7.371115 ┆ null   ┆ 7071.067812 │\n",
       "└──────┴──────────┴────────┴─────────────┘"
      ]
     },
     "execution_count": 91,
     "metadata": {},
     "output_type": "execute_result"
    }
   ],
   "source": [
    "let df = df!(\"Name\" => &[\"Mahmoud\", \"Ali\", \"ThePrimeagen\"],\n",
    "             \"Age\" => &[22, 25, 36],\n",
    "             \"Gender\" => &[\"M\", \"M\", \"M\"],\n",
    "             \"Salary\" => &[Some(50000), Some(60000), None]).unwrap();\n",
    "\n",
    "df.std(1)"
   ]
  },
  {
   "cell_type": "markdown",
   "id": "bc466013",
   "metadata": {},
   "source": [
    "### var"
   ]
  },
  {
   "cell_type": "code",
   "execution_count": 93,
   "id": "559108c3",
   "metadata": {},
   "outputs": [
    {
     "data": {
      "text/plain": [
       "shape: (1, 4)\n",
       "┌──────┬───────────┬────────┬────────┐\n",
       "│ Name ┆ Age       ┆ Gender ┆ Salary │\n",
       "│ ---  ┆ ---       ┆ ---    ┆ ---    │\n",
       "│ str  ┆ f64       ┆ str    ┆ f64    │\n",
       "╞══════╪═══════════╪════════╪════════╡\n",
       "│ null ┆ 54.333333 ┆ null   ┆ 5e7    │\n",
       "└──────┴───────────┴────────┴────────┘"
      ]
     },
     "execution_count": 93,
     "metadata": {},
     "output_type": "execute_result"
    }
   ],
   "source": [
    "let df = df!(\"Name\" => &[\"Mahmoud\", \"Ali\", \"ThePrimeagen\"],\n",
    "             \"Age\" => &[22, 25, 36],\n",
    "             \"Gender\" => &[\"M\", \"M\", \"M\"],\n",
    "             \"Salary\" => &[Some(50000), Some(60000), None]).unwrap();\n",
    "\n",
    "df.var(1)"
   ]
  },
  {
   "cell_type": "markdown",
   "id": "bb187799",
   "metadata": {},
   "source": [
    "## Ndarray"
   ]
  },
  {
   "cell_type": "code",
   "execution_count": 94,
   "id": "bfdb9d25",
   "metadata": {},
   "outputs": [
    {
     "data": {
      "text/plain": [
       "[[NaN, 22.0, NaN, 50000.0],\n",
       " [NaN, 25.0, NaN, 60000.0],\n",
       " [NaN, 36.0, NaN, NaN]], shape=[3, 4], strides=[1, 3], layout=Ff (0xa), const ndim=2"
      ]
     },
     "execution_count": 94,
     "metadata": {},
     "output_type": "execute_result"
    }
   ],
   "source": [
    "let df = df!(\"Name\" => &[\"Mahmoud\", \"Ali\", \"ThePrimeagen\"],\n",
    "             \"Age\" => &[22, 25, 36],\n",
    "             \"Gender\" => &[\"M\", \"M\", \"M\"],\n",
    "             \"Salary\" => &[Some(50000), Some(60000), None]).unwrap();\n",
    "\n",
    "df.to_ndarray::<Float64Type>().unwrap()"
   ]
  }
 ],
 "metadata": {
  "kernelspec": {
   "display_name": "Rust",
   "language": "rust",
   "name": "rust"
  },
  "language_info": {
   "codemirror_mode": "rust",
   "file_extension": ".rs",
   "mimetype": "text/rust",
   "name": "Rust",
   "pygment_lexer": "rust",
   "version": ""
  }
 },
 "nbformat": 4,
 "nbformat_minor": 5
}
